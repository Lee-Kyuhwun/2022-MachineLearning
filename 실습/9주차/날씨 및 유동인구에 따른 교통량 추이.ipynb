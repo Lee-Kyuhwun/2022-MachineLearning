{
 "cells": [
  {
   "cell_type": "code",
   "execution_count": 1,
   "id": "e5c05556",
   "metadata": {
    "_cell_guid": "b1076dfc-b9ad-4769-8c92-a6c4dae69d19",
    "_uuid": "8f2839f25d086af736a60e9eeb907d3b93b6e0e5",
    "execution": {
     "iopub.execute_input": "2022-05-08T00:55:28.867176Z",
     "iopub.status.busy": "2022-05-08T00:55:28.866046Z",
     "iopub.status.idle": "2022-05-08T00:55:28.882284Z",
     "shell.execute_reply": "2022-05-08T00:55:28.880921Z"
    },
    "papermill": {
     "duration": 0.031042,
     "end_time": "2022-05-08T00:55:28.886095",
     "exception": false,
     "start_time": "2022-05-08T00:55:28.855053",
     "status": "completed"
    },
    "tags": []
   },
   "outputs": [
    {
     "name": "stdout",
     "output_type": "stream",
     "text": [
      "/kaggle/input/2022-ml-w9p1/x_test.csv\n",
      "/kaggle/input/2022-ml-w9p1/y_train.csv\n",
      "/kaggle/input/2022-ml-w9p1/x_train.csv\n",
      "/kaggle/input/2022-ml-w9p1/submit.csv\n"
     ]
    }
   ],
   "source": [
    "# This Python 3 environment comes with many helpful analytics libraries installed\n",
    "# It is defined by the kaggle/python Docker image: https://github.com/kaggle/docker-python\n",
    "# For example, here's several helpful packages to load\n",
    "\n",
    "import numpy as np # linear algebra\n",
    "import pandas as pd # data processing, CSV file I/O (e.g. pd.read_csv)\n",
    "\n",
    "# Input data files are available in the read-only \"../input/\" directory\n",
    "# For example, running this (by clicking run or pressing Shift+Enter) will list all files under the input directory\n",
    "\n",
    "import os\n",
    "for dirname, _, filenames in os.walk('/kaggle/input'):\n",
    "    for filename in filenames:\n",
    "        print(os.path.join(dirname, filename))\n",
    "\n",
    "# You can write up to 20GB to the current directory (/kaggle/working/) that gets preserved as output when you create a version using \"Save & Run All\" \n",
    "# You can also write temporary files to /kaggle/temp/, but they won't be saved outside of the current session"
   ]
  },
  {
   "cell_type": "code",
   "execution_count": 2,
   "id": "abda7049",
   "metadata": {
    "execution": {
     "iopub.execute_input": "2022-05-08T00:55:28.906066Z",
     "iopub.status.busy": "2022-05-08T00:55:28.905616Z",
     "iopub.status.idle": "2022-05-08T00:55:28.910333Z",
     "shell.execute_reply": "2022-05-08T00:55:28.909247Z"
    },
    "papermill": {
     "duration": 0.01665,
     "end_time": "2022-05-08T00:55:28.912395",
     "exception": false,
     "start_time": "2022-05-08T00:55:28.895745",
     "status": "completed"
    },
    "tags": []
   },
   "outputs": [],
   "source": [
    "import random\n",
    "import os\n",
    "seed = 42\n",
    "random.seed(seed)\n",
    "np.random.seed(seed)\n",
    "os.environ[\"PYTHONHASHSEED\"] = str(seed)"
   ]
  },
  {
   "cell_type": "code",
   "execution_count": 3,
   "id": "a04877b4",
   "metadata": {
    "execution": {
     "iopub.execute_input": "2022-05-08T00:55:28.931053Z",
     "iopub.status.busy": "2022-05-08T00:55:28.930640Z",
     "iopub.status.idle": "2022-05-08T00:55:29.851636Z",
     "shell.execute_reply": "2022-05-08T00:55:29.850755Z"
    },
    "papermill": {
     "duration": 0.933563,
     "end_time": "2022-05-08T00:55:29.854240",
     "exception": false,
     "start_time": "2022-05-08T00:55:28.920677",
     "status": "completed"
    },
    "tags": []
   },
   "outputs": [],
   "source": [
    "db = pd.DataFrame(pd.read_csv('/kaggle/input/2022-ml-w9p1/x_test.csv',engine='python',encoding='CP949'))\n",
    "db_x = pd.DataFrame(pd.read_csv('/kaggle/input/2022-ml-w9p1/x_train.csv',engine='python',encoding='CP949'))\n",
    "db_y = pd.DataFrame(pd.read_csv('/kaggle/input/2022-ml-w9p1/y_train.csv',engine='python',encoding='CP949'))"
   ]
  },
  {
   "cell_type": "code",
   "execution_count": 4,
   "id": "bc08798d",
   "metadata": {
    "execution": {
     "iopub.execute_input": "2022-05-08T00:55:29.872825Z",
     "iopub.status.busy": "2022-05-08T00:55:29.872320Z",
     "iopub.status.idle": "2022-05-08T00:55:30.879271Z",
     "shell.execute_reply": "2022-05-08T00:55:30.877996Z"
    },
    "papermill": {
     "duration": 1.019176,
     "end_time": "2022-05-08T00:55:30.881809",
     "exception": false,
     "start_time": "2022-05-08T00:55:29.862633",
     "status": "completed"
    },
    "tags": []
   },
   "outputs": [],
   "source": [
    "from sklearn.preprocessing import StandardScaler\n",
    "sc = StandardScaler()\n",
    "x_train = sc.fit_transform(db_x)\n",
    "x_test = sc.transform(db)"
   ]
  },
  {
   "cell_type": "code",
   "execution_count": 5,
   "id": "8ad7bc52",
   "metadata": {
    "execution": {
     "iopub.execute_input": "2022-05-08T00:55:30.900041Z",
     "iopub.status.busy": "2022-05-08T00:55:30.899702Z",
     "iopub.status.idle": "2022-05-08T00:56:31.391018Z",
     "shell.execute_reply": "2022-05-08T00:56:31.390200Z"
    },
    "papermill": {
     "duration": 60.503767,
     "end_time": "2022-05-08T00:56:31.393738",
     "exception": false,
     "start_time": "2022-05-08T00:55:30.889971",
     "status": "completed"
    },
    "tags": []
   },
   "outputs": [],
   "source": [
    "from sklearn.svm import SVR\n",
    "regr = SVR(kernel = 'sigmoid')\n",
    "regr.fit(x_train,db_y['교통량'])\n",
    "y_test_pred = regr.predict(x_test)"
   ]
  },
  {
   "cell_type": "code",
   "execution_count": 6,
   "id": "8d20cdeb",
   "metadata": {
    "execution": {
     "iopub.execute_input": "2022-05-08T00:56:31.413593Z",
     "iopub.status.busy": "2022-05-08T00:56:31.413041Z",
     "iopub.status.idle": "2022-05-08T00:56:31.471721Z",
     "shell.execute_reply": "2022-05-08T00:56:31.470623Z"
    },
    "papermill": {
     "duration": 0.071708,
     "end_time": "2022-05-08T00:56:31.474459",
     "exception": false,
     "start_time": "2022-05-08T00:56:31.402751",
     "status": "completed"
    },
    "tags": []
   },
   "outputs": [],
   "source": [
    "submit = pd.read_csv('/kaggle/input/2022-ml-w9p1/submit.csv')\n",
    "submit['predict'] = y_test_pred\n",
    "submit.to_csv('submit.csv',index=False)"
   ]
  }
 ],
 "metadata": {
  "kernelspec": {
   "display_name": "Python 3",
   "language": "python",
   "name": "python3"
  },
  "language_info": {
   "codemirror_mode": {
    "name": "ipython",
    "version": 3
   },
   "file_extension": ".py",
   "mimetype": "text/x-python",
   "name": "python",
   "nbconvert_exporter": "python",
   "pygments_lexer": "ipython3",
   "version": "3.7.12"
  },
  "papermill": {
   "default_parameters": {},
   "duration": 73.880372,
   "end_time": "2022-05-08T00:56:32.506933",
   "environment_variables": {},
   "exception": null,
   "input_path": "__notebook__.ipynb",
   "output_path": "__notebook__.ipynb",
   "parameters": {},
   "start_time": "2022-05-08T00:55:18.626561",
   "version": "2.3.4"
  }
 },
 "nbformat": 4,
 "nbformat_minor": 5
}
