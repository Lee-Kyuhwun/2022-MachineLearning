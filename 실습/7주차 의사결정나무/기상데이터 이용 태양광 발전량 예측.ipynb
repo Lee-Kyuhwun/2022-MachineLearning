{
 "cells": [
  {
   "cell_type": "code",
   "execution_count": 1,
   "id": "f421c4ee",
   "metadata": {
    "_cell_guid": "b1076dfc-b9ad-4769-8c92-a6c4dae69d19",
    "_uuid": "8f2839f25d086af736a60e9eeb907d3b93b6e0e5",
    "execution": {
     "iopub.execute_input": "2022-04-22T16:43:27.549331Z",
     "iopub.status.busy": "2022-04-22T16:43:27.548995Z",
     "iopub.status.idle": "2022-04-22T16:43:27.562300Z",
     "shell.execute_reply": "2022-04-22T16:43:27.561574Z"
    },
    "papermill": {
     "duration": 0.030221,
     "end_time": "2022-04-22T16:43:27.565521",
     "exception": false,
     "start_time": "2022-04-22T16:43:27.535300",
     "status": "completed"
    },
    "tags": []
   },
   "outputs": [
    {
     "name": "stdout",
     "output_type": "stream",
     "text": [
      "/kaggle/input/2022-ml-w7p2/submit.csv\n",
      "/kaggle/input/2022-ml-w7p2/train.csv\n",
      "/kaggle/input/2022-ml-w7p2/test.csv\n"
     ]
    }
   ],
   "source": [
    "# This Python 3 environment comes with many helpful analytics libraries installed\n",
    "# It is defined by the kaggle/python Docker image: https://github.com/kaggle/docker-python\n",
    "# For example, here's several helpful packages to load\n",
    "\n",
    "import numpy as np # linear algebra\n",
    "import pandas as pd # data processing, CSV file I/O (e.g. pd.read_csv)\n",
    "\n",
    "# Input data files are available in the read-only \"../input/\" directory\n",
    "# For example, running this (by clicking run or pressing Shift+Enter) will list all files under the input directory\n",
    "\n",
    "import os\n",
    "for dirname, _, filenames in os.walk('/kaggle/input'):\n",
    "    for filename in filenames:\n",
    "        print(os.path.join(dirname, filename))\n",
    "\n",
    "# You can write up to 20GB to the current directory (/kaggle/working/) that gets preserved as output when you create a version using \"Save & Run All\" \n",
    "# You can also write temporary files to /kaggle/temp/, but they won't be saved outside of the current session"
   ]
  },
  {
   "cell_type": "code",
   "execution_count": 2,
   "id": "6024de55",
   "metadata": {
    "execution": {
     "iopub.execute_input": "2022-04-22T16:43:27.589643Z",
     "iopub.status.busy": "2022-04-22T16:43:27.589205Z",
     "iopub.status.idle": "2022-04-22T16:43:27.593407Z",
     "shell.execute_reply": "2022-04-22T16:43:27.592839Z"
    },
    "papermill": {
     "duration": 0.017677,
     "end_time": "2022-04-22T16:43:27.595213",
     "exception": false,
     "start_time": "2022-04-22T16:43:27.577536",
     "status": "completed"
    },
    "tags": []
   },
   "outputs": [],
   "source": [
    "import random\n",
    "import os\n",
    "seed = 42\n",
    "random.seed(seed)\n",
    "np.random.seed(seed)\n",
    "os.environ[\"PYTHONHASHSEED\"] = str(seed)"
   ]
  },
  {
   "cell_type": "code",
   "execution_count": 3,
   "id": "9e7fd0e4",
   "metadata": {
    "execution": {
     "iopub.execute_input": "2022-04-22T16:43:27.617586Z",
     "iopub.status.busy": "2022-04-22T16:43:27.617266Z",
     "iopub.status.idle": "2022-04-22T16:43:27.664775Z",
     "shell.execute_reply": "2022-04-22T16:43:27.664019Z"
    },
    "papermill": {
     "duration": 0.06143,
     "end_time": "2022-04-22T16:43:27.667045",
     "exception": false,
     "start_time": "2022-04-22T16:43:27.605615",
     "status": "completed"
    },
    "tags": []
   },
   "outputs": [],
   "source": [
    "submit = pd.read_csv('/kaggle/input/2022-ml-w7p2/submit.csv')\n",
    "train = pd.read_csv('/kaggle/input/2022-ml-w7p2/train.csv')\n",
    "test = pd.read_csv('/kaggle/input/2022-ml-w7p2/test.csv')"
   ]
  },
  {
   "cell_type": "code",
   "execution_count": 4,
   "id": "67ed7513",
   "metadata": {
    "execution": {
     "iopub.execute_input": "2022-04-22T16:43:27.689930Z",
     "iopub.status.busy": "2022-04-22T16:43:27.689475Z",
     "iopub.status.idle": "2022-04-22T16:43:27.703863Z",
     "shell.execute_reply": "2022-04-22T16:43:27.703051Z"
    },
    "papermill": {
     "duration": 0.028316,
     "end_time": "2022-04-22T16:43:27.706019",
     "exception": false,
     "start_time": "2022-04-22T16:43:27.677703",
     "status": "completed"
    },
    "tags": []
   },
   "outputs": [],
   "source": [
    "train_x = train.drop(['TARGET'], axis =1)\n",
    "train_y = train['TARGET']"
   ]
  },
  {
   "cell_type": "code",
   "execution_count": null,
   "id": "e2ccfa64",
   "metadata": {
    "papermill": {
     "duration": 0.01024,
     "end_time": "2022-04-22T16:43:27.726936",
     "exception": false,
     "start_time": "2022-04-22T16:43:27.716696",
     "status": "completed"
    },
    "tags": []
   },
   "outputs": [],
   "source": []
  },
  {
   "cell_type": "code",
   "execution_count": null,
   "id": "8152756d",
   "metadata": {
    "papermill": {
     "duration": 0.010113,
     "end_time": "2022-04-22T16:43:27.747479",
     "exception": false,
     "start_time": "2022-04-22T16:43:27.737366",
     "status": "completed"
    },
    "tags": []
   },
   "outputs": [],
   "source": []
  },
  {
   "cell_type": "code",
   "execution_count": 5,
   "id": "237f979f",
   "metadata": {
    "execution": {
     "iopub.execute_input": "2022-04-22T16:43:27.769945Z",
     "iopub.status.busy": "2022-04-22T16:43:27.769463Z",
     "iopub.status.idle": "2022-04-22T16:43:52.356578Z",
     "shell.execute_reply": "2022-04-22T16:43:52.355506Z"
    },
    "papermill": {
     "duration": 24.60112,
     "end_time": "2022-04-22T16:43:52.358870",
     "exception": false,
     "start_time": "2022-04-22T16:43:27.757750",
     "status": "completed"
    },
    "tags": []
   },
   "outputs": [],
   "source": [
    "from sklearn.ensemble import RandomForestRegressor\n",
    "dtc = RandomForestRegressor(criterion=\"poisson\")\n",
    "dtc.fit(train_x,train['TARGET'])\n",
    "y_train_pred = dtc.predict(train_x)\n",
    "y_test_pred = dtc.predict(test)"
   ]
  },
  {
   "cell_type": "code",
   "execution_count": 6,
   "id": "ab3e6a9c",
   "metadata": {
    "execution": {
     "iopub.execute_input": "2022-04-22T16:43:52.382001Z",
     "iopub.status.busy": "2022-04-22T16:43:52.381708Z",
     "iopub.status.idle": "2022-04-22T16:43:52.386823Z",
     "shell.execute_reply": "2022-04-22T16:43:52.385943Z"
    },
    "papermill": {
     "duration": 0.018909,
     "end_time": "2022-04-22T16:43:52.388794",
     "exception": false,
     "start_time": "2022-04-22T16:43:52.369885",
     "status": "completed"
    },
    "tags": []
   },
   "outputs": [],
   "source": [
    "submit['TARGET'] = y_test_pred"
   ]
  },
  {
   "cell_type": "code",
   "execution_count": 7,
   "id": "05ef4c2f",
   "metadata": {
    "execution": {
     "iopub.execute_input": "2022-04-22T16:43:52.411485Z",
     "iopub.status.busy": "2022-04-22T16:43:52.411172Z",
     "iopub.status.idle": "2022-04-22T16:43:52.423423Z",
     "shell.execute_reply": "2022-04-22T16:43:52.422474Z"
    },
    "papermill": {
     "duration": 0.026482,
     "end_time": "2022-04-22T16:43:52.425825",
     "exception": false,
     "start_time": "2022-04-22T16:43:52.399343",
     "status": "completed"
    },
    "tags": []
   },
   "outputs": [],
   "source": [
    "submit = submit.to_csv('submit.csv',index=False)"
   ]
  }
 ],
 "metadata": {
  "kernelspec": {
   "display_name": "Python 3",
   "language": "python",
   "name": "python3"
  },
  "language_info": {
   "codemirror_mode": {
    "name": "ipython",
    "version": 3
   },
   "file_extension": ".py",
   "mimetype": "text/x-python",
   "name": "python",
   "nbconvert_exporter": "python",
   "pygments_lexer": "ipython3",
   "version": "3.7.12"
  },
  "papermill": {
   "default_parameters": {},
   "duration": 35.997856,
   "end_time": "2022-04-22T16:43:53.157542",
   "environment_variables": {},
   "exception": null,
   "input_path": "__notebook__.ipynb",
   "output_path": "__notebook__.ipynb",
   "parameters": {},
   "start_time": "2022-04-22T16:43:17.159686",
   "version": "2.3.4"
  }
 },
 "nbformat": 4,
 "nbformat_minor": 5
}
