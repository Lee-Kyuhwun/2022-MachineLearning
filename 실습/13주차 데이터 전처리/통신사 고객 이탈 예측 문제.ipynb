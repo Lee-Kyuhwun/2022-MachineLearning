{
 "cells": [
  {
   "cell_type": "code",
   "execution_count": 1,
   "id": "b449e3e8",
   "metadata": {
    "_cell_guid": "b1076dfc-b9ad-4769-8c92-a6c4dae69d19",
    "_uuid": "8f2839f25d086af736a60e9eeb907d3b93b6e0e5",
    "execution": {
     "iopub.execute_input": "2022-06-02T13:20:23.396212Z",
     "iopub.status.busy": "2022-06-02T13:20:23.395727Z",
     "iopub.status.idle": "2022-06-02T13:20:23.410142Z",
     "shell.execute_reply": "2022-06-02T13:20:23.409251Z"
    },
    "papermill": {
     "duration": 0.028896,
     "end_time": "2022-06-02T13:20:23.412564",
     "exception": false,
     "start_time": "2022-06-02T13:20:23.383668",
     "status": "completed"
    },
    "tags": []
   },
   "outputs": [
    {
     "name": "stdout",
     "output_type": "stream",
     "text": [
      "/kaggle/input/2022-ml-w13p2/train.csv\n",
      "/kaggle/input/2022-ml-w13p2/test.csv\n",
      "/kaggle/input/2022-ml-w13p2/sample_submit.csv\n"
     ]
    }
   ],
   "source": [
    "# This Python 3 environment comes with many helpful analytics libraries installed\n",
    "# It is defined by the kaggle/python Docker image: https://github.com/kaggle/docker-python\n",
    "# For example, here's several helpful packages to load\n",
    "\n",
    "import numpy as np # linear algebra\n",
    "import pandas as pd # data processing, CSV file I/O (e.g. pd.read_csv)\n",
    "\n",
    "# Input data files are available in the read-only \"../input/\" directory\n",
    "# For example, running this (by clicking run or pressing Shift+Enter) will list all files under the input directory\n",
    "\n",
    "import os\n",
    "for dirname, _, filenames in os.walk('/kaggle/input'):\n",
    "    for filename in filenames:\n",
    "        print(os.path.join(dirname, filename))\n",
    "\n",
    "# You can write up to 20GB to the current directory (/kaggle/working/) that gets preserved as output when you create a version using \"Save & Run All\" \n",
    "# You can also write temporary files to /kaggle/temp/, but they won't be saved outside of the current session"
   ]
  },
  {
   "cell_type": "code",
   "execution_count": 2,
   "id": "8992590d",
   "metadata": {
    "execution": {
     "iopub.execute_input": "2022-06-02T13:20:23.428880Z",
     "iopub.status.busy": "2022-06-02T13:20:23.428432Z",
     "iopub.status.idle": "2022-06-02T13:20:23.490398Z",
     "shell.execute_reply": "2022-06-02T13:20:23.488638Z"
    },
    "papermill": {
     "duration": 0.073403,
     "end_time": "2022-06-02T13:20:23.492960",
     "exception": false,
     "start_time": "2022-06-02T13:20:23.419557",
     "status": "completed"
    },
    "tags": []
   },
   "outputs": [],
   "source": [
    "test = pd.read_csv('/kaggle/input/2022-ml-w13p2/test.csv')\n",
    "train = pd.read_csv('/kaggle/input/2022-ml-w13p2/train.csv')"
   ]
  },
  {
   "cell_type": "code",
   "execution_count": 3,
   "id": "23760483",
   "metadata": {
    "execution": {
     "iopub.execute_input": "2022-06-02T13:20:23.508523Z",
     "iopub.status.busy": "2022-06-02T13:20:23.507753Z",
     "iopub.status.idle": "2022-06-02T13:20:23.561373Z",
     "shell.execute_reply": "2022-06-02T13:20:23.560178Z"
    },
    "papermill": {
     "duration": 0.064036,
     "end_time": "2022-06-02T13:20:23.563844",
     "exception": false,
     "start_time": "2022-06-02T13:20:23.499808",
     "status": "completed"
    },
    "tags": []
   },
   "outputs": [
    {
     "data": {
      "text/html": [
       "<div>\n",
       "<style scoped>\n",
       "    .dataframe tbody tr th:only-of-type {\n",
       "        vertical-align: middle;\n",
       "    }\n",
       "\n",
       "    .dataframe tbody tr th {\n",
       "        vertical-align: top;\n",
       "    }\n",
       "\n",
       "    .dataframe thead th {\n",
       "        text-align: right;\n",
       "    }\n",
       "</style>\n",
       "<table border=\"1\" class=\"dataframe\">\n",
       "  <thead>\n",
       "    <tr style=\"text-align: right;\">\n",
       "      <th></th>\n",
       "      <th>index</th>\n",
       "      <th>Unnamed: 0</th>\n",
       "      <th>customerID</th>\n",
       "      <th>gender</th>\n",
       "      <th>SeniorCitizen</th>\n",
       "      <th>Partner</th>\n",
       "      <th>Dependents</th>\n",
       "      <th>tenure</th>\n",
       "      <th>PhoneService</th>\n",
       "      <th>MultipleLines</th>\n",
       "      <th>...</th>\n",
       "      <th>DeviceProtection</th>\n",
       "      <th>TechSupport</th>\n",
       "      <th>StreamingTV</th>\n",
       "      <th>StreamingMovies</th>\n",
       "      <th>Contract</th>\n",
       "      <th>PaperlessBilling</th>\n",
       "      <th>PaymentMethod</th>\n",
       "      <th>MonthlyCharges</th>\n",
       "      <th>TotalCharges</th>\n",
       "      <th>Churn</th>\n",
       "    </tr>\n",
       "  </thead>\n",
       "  <tbody>\n",
       "    <tr>\n",
       "      <th>0</th>\n",
       "      <td>0</td>\n",
       "      <td>1869</td>\n",
       "      <td>7010-BRBUU</td>\n",
       "      <td>Male</td>\n",
       "      <td>0</td>\n",
       "      <td>Yes</td>\n",
       "      <td>Yes</td>\n",
       "      <td>72</td>\n",
       "      <td>Yes</td>\n",
       "      <td>Yes</td>\n",
       "      <td>...</td>\n",
       "      <td>No internet service</td>\n",
       "      <td>No internet service</td>\n",
       "      <td>No internet service</td>\n",
       "      <td>No internet service</td>\n",
       "      <td>Two year</td>\n",
       "      <td>No</td>\n",
       "      <td>Credit card (automatic)</td>\n",
       "      <td>24.10</td>\n",
       "      <td>1734.65</td>\n",
       "      <td>No</td>\n",
       "    </tr>\n",
       "    <tr>\n",
       "      <th>1</th>\n",
       "      <td>1</td>\n",
       "      <td>4528</td>\n",
       "      <td>9688-YGXVR</td>\n",
       "      <td>Female</td>\n",
       "      <td>0</td>\n",
       "      <td>No</td>\n",
       "      <td>No</td>\n",
       "      <td>44</td>\n",
       "      <td>Yes</td>\n",
       "      <td>No</td>\n",
       "      <td>...</td>\n",
       "      <td>Yes</td>\n",
       "      <td>No</td>\n",
       "      <td>Yes</td>\n",
       "      <td>No</td>\n",
       "      <td>Month-to-month</td>\n",
       "      <td>Yes</td>\n",
       "      <td>Credit card (automatic)</td>\n",
       "      <td>88.15</td>\n",
       "      <td>3973.2</td>\n",
       "      <td>No</td>\n",
       "    </tr>\n",
       "    <tr>\n",
       "      <th>2</th>\n",
       "      <td>2</td>\n",
       "      <td>6344</td>\n",
       "      <td>9286-DOJGF</td>\n",
       "      <td>Female</td>\n",
       "      <td>1</td>\n",
       "      <td>Yes</td>\n",
       "      <td>No</td>\n",
       "      <td>38</td>\n",
       "      <td>Yes</td>\n",
       "      <td>Yes</td>\n",
       "      <td>...</td>\n",
       "      <td>No</td>\n",
       "      <td>No</td>\n",
       "      <td>No</td>\n",
       "      <td>No</td>\n",
       "      <td>Month-to-month</td>\n",
       "      <td>Yes</td>\n",
       "      <td>Bank transfer (automatic)</td>\n",
       "      <td>74.95</td>\n",
       "      <td>2869.85</td>\n",
       "      <td>Yes</td>\n",
       "    </tr>\n",
       "    <tr>\n",
       "      <th>3</th>\n",
       "      <td>3</td>\n",
       "      <td>6739</td>\n",
       "      <td>6994-KERXL</td>\n",
       "      <td>Male</td>\n",
       "      <td>0</td>\n",
       "      <td>No</td>\n",
       "      <td>No</td>\n",
       "      <td>4</td>\n",
       "      <td>Yes</td>\n",
       "      <td>No</td>\n",
       "      <td>...</td>\n",
       "      <td>No</td>\n",
       "      <td>No</td>\n",
       "      <td>No</td>\n",
       "      <td>Yes</td>\n",
       "      <td>Month-to-month</td>\n",
       "      <td>Yes</td>\n",
       "      <td>Electronic check</td>\n",
       "      <td>55.90</td>\n",
       "      <td>238.5</td>\n",
       "      <td>No</td>\n",
       "    </tr>\n",
       "    <tr>\n",
       "      <th>4</th>\n",
       "      <td>4</td>\n",
       "      <td>432</td>\n",
       "      <td>2181-UAESM</td>\n",
       "      <td>Male</td>\n",
       "      <td>0</td>\n",
       "      <td>No</td>\n",
       "      <td>No</td>\n",
       "      <td>2</td>\n",
       "      <td>Yes</td>\n",
       "      <td>No</td>\n",
       "      <td>...</td>\n",
       "      <td>Yes</td>\n",
       "      <td>No</td>\n",
       "      <td>No</td>\n",
       "      <td>No</td>\n",
       "      <td>Month-to-month</td>\n",
       "      <td>No</td>\n",
       "      <td>Electronic check</td>\n",
       "      <td>53.45</td>\n",
       "      <td>119.5</td>\n",
       "      <td>No</td>\n",
       "    </tr>\n",
       "    <tr>\n",
       "      <th>...</th>\n",
       "      <td>...</td>\n",
       "      <td>...</td>\n",
       "      <td>...</td>\n",
       "      <td>...</td>\n",
       "      <td>...</td>\n",
       "      <td>...</td>\n",
       "      <td>...</td>\n",
       "      <td>...</td>\n",
       "      <td>...</td>\n",
       "      <td>...</td>\n",
       "      <td>...</td>\n",
       "      <td>...</td>\n",
       "      <td>...</td>\n",
       "      <td>...</td>\n",
       "      <td>...</td>\n",
       "      <td>...</td>\n",
       "      <td>...</td>\n",
       "      <td>...</td>\n",
       "      <td>...</td>\n",
       "      <td>...</td>\n",
       "      <td>...</td>\n",
       "    </tr>\n",
       "    <tr>\n",
       "      <th>4783</th>\n",
       "      <td>5981</td>\n",
       "      <td>3772</td>\n",
       "      <td>0684-AOSIH</td>\n",
       "      <td>Male</td>\n",
       "      <td>0</td>\n",
       "      <td>Yes</td>\n",
       "      <td>No</td>\n",
       "      <td>1</td>\n",
       "      <td>Yes</td>\n",
       "      <td>No</td>\n",
       "      <td>...</td>\n",
       "      <td>No</td>\n",
       "      <td>No</td>\n",
       "      <td>Yes</td>\n",
       "      <td>Yes</td>\n",
       "      <td>Month-to-month</td>\n",
       "      <td>Yes</td>\n",
       "      <td>Electronic check</td>\n",
       "      <td>95.00</td>\n",
       "      <td>95</td>\n",
       "      <td>Yes</td>\n",
       "    </tr>\n",
       "    <tr>\n",
       "      <th>4784</th>\n",
       "      <td>5982</td>\n",
       "      <td>5191</td>\n",
       "      <td>5982-PSMKW</td>\n",
       "      <td>Female</td>\n",
       "      <td>0</td>\n",
       "      <td>Yes</td>\n",
       "      <td>Yes</td>\n",
       "      <td>23</td>\n",
       "      <td>Yes</td>\n",
       "      <td>Yes</td>\n",
       "      <td>...</td>\n",
       "      <td>Yes</td>\n",
       "      <td>Yes</td>\n",
       "      <td>Yes</td>\n",
       "      <td>Yes</td>\n",
       "      <td>Two year</td>\n",
       "      <td>Yes</td>\n",
       "      <td>Credit card (automatic)</td>\n",
       "      <td>91.10</td>\n",
       "      <td>2198.3</td>\n",
       "      <td>No</td>\n",
       "    </tr>\n",
       "    <tr>\n",
       "      <th>4785</th>\n",
       "      <td>5983</td>\n",
       "      <td>5226</td>\n",
       "      <td>8044-BGWPI</td>\n",
       "      <td>Male</td>\n",
       "      <td>0</td>\n",
       "      <td>Yes</td>\n",
       "      <td>Yes</td>\n",
       "      <td>12</td>\n",
       "      <td>Yes</td>\n",
       "      <td>No</td>\n",
       "      <td>...</td>\n",
       "      <td>No internet service</td>\n",
       "      <td>No internet service</td>\n",
       "      <td>No internet service</td>\n",
       "      <td>No internet service</td>\n",
       "      <td>Month-to-month</td>\n",
       "      <td>Yes</td>\n",
       "      <td>Electronic check</td>\n",
       "      <td>21.15</td>\n",
       "      <td>306.05</td>\n",
       "      <td>No</td>\n",
       "    </tr>\n",
       "    <tr>\n",
       "      <th>4786</th>\n",
       "      <td>5984</td>\n",
       "      <td>5390</td>\n",
       "      <td>7450-NWRTR</td>\n",
       "      <td>Male</td>\n",
       "      <td>1</td>\n",
       "      <td>No</td>\n",
       "      <td>No</td>\n",
       "      <td>12</td>\n",
       "      <td>Yes</td>\n",
       "      <td>Yes</td>\n",
       "      <td>...</td>\n",
       "      <td>Yes</td>\n",
       "      <td>No</td>\n",
       "      <td>Yes</td>\n",
       "      <td>Yes</td>\n",
       "      <td>Month-to-month</td>\n",
       "      <td>Yes</td>\n",
       "      <td>Electronic check</td>\n",
       "      <td>99.45</td>\n",
       "      <td>1200.15</td>\n",
       "      <td>Yes</td>\n",
       "    </tr>\n",
       "    <tr>\n",
       "      <th>4787</th>\n",
       "      <td>5985</td>\n",
       "      <td>860</td>\n",
       "      <td>4795-UXVCJ</td>\n",
       "      <td>Male</td>\n",
       "      <td>0</td>\n",
       "      <td>No</td>\n",
       "      <td>No</td>\n",
       "      <td>26</td>\n",
       "      <td>Yes</td>\n",
       "      <td>No</td>\n",
       "      <td>...</td>\n",
       "      <td>No internet service</td>\n",
       "      <td>No internet service</td>\n",
       "      <td>No internet service</td>\n",
       "      <td>No internet service</td>\n",
       "      <td>One year</td>\n",
       "      <td>No</td>\n",
       "      <td>Credit card (automatic)</td>\n",
       "      <td>19.80</td>\n",
       "      <td>457.3</td>\n",
       "      <td>No</td>\n",
       "    </tr>\n",
       "  </tbody>\n",
       "</table>\n",
       "<p>4788 rows × 23 columns</p>\n",
       "</div>"
      ],
      "text/plain": [
       "      index  Unnamed: 0  customerID  gender  SeniorCitizen Partner Dependents  \\\n",
       "0         0        1869  7010-BRBUU    Male              0     Yes        Yes   \n",
       "1         1        4528  9688-YGXVR  Female              0      No         No   \n",
       "2         2        6344  9286-DOJGF  Female              1     Yes         No   \n",
       "3         3        6739  6994-KERXL    Male              0      No         No   \n",
       "4         4         432  2181-UAESM    Male              0      No         No   \n",
       "...     ...         ...         ...     ...            ...     ...        ...   \n",
       "4783   5981        3772  0684-AOSIH    Male              0     Yes         No   \n",
       "4784   5982        5191  5982-PSMKW  Female              0     Yes        Yes   \n",
       "4785   5983        5226  8044-BGWPI    Male              0     Yes        Yes   \n",
       "4786   5984        5390  7450-NWRTR    Male              1      No         No   \n",
       "4787   5985         860  4795-UXVCJ    Male              0      No         No   \n",
       "\n",
       "      tenure PhoneService MultipleLines  ...     DeviceProtection  \\\n",
       "0         72          Yes           Yes  ...  No internet service   \n",
       "1         44          Yes            No  ...                  Yes   \n",
       "2         38          Yes           Yes  ...                   No   \n",
       "3          4          Yes            No  ...                   No   \n",
       "4          2          Yes            No  ...                  Yes   \n",
       "...      ...          ...           ...  ...                  ...   \n",
       "4783       1          Yes            No  ...                   No   \n",
       "4784      23          Yes           Yes  ...                  Yes   \n",
       "4785      12          Yes            No  ...  No internet service   \n",
       "4786      12          Yes           Yes  ...                  Yes   \n",
       "4787      26          Yes            No  ...  No internet service   \n",
       "\n",
       "              TechSupport          StreamingTV      StreamingMovies  \\\n",
       "0     No internet service  No internet service  No internet service   \n",
       "1                      No                  Yes                   No   \n",
       "2                      No                   No                   No   \n",
       "3                      No                   No                  Yes   \n",
       "4                      No                   No                   No   \n",
       "...                   ...                  ...                  ...   \n",
       "4783                   No                  Yes                  Yes   \n",
       "4784                  Yes                  Yes                  Yes   \n",
       "4785  No internet service  No internet service  No internet service   \n",
       "4786                   No                  Yes                  Yes   \n",
       "4787  No internet service  No internet service  No internet service   \n",
       "\n",
       "            Contract PaperlessBilling              PaymentMethod  \\\n",
       "0           Two year               No    Credit card (automatic)   \n",
       "1     Month-to-month              Yes    Credit card (automatic)   \n",
       "2     Month-to-month              Yes  Bank transfer (automatic)   \n",
       "3     Month-to-month              Yes           Electronic check   \n",
       "4     Month-to-month               No           Electronic check   \n",
       "...              ...              ...                        ...   \n",
       "4783  Month-to-month              Yes           Electronic check   \n",
       "4784        Two year              Yes    Credit card (automatic)   \n",
       "4785  Month-to-month              Yes           Electronic check   \n",
       "4786  Month-to-month              Yes           Electronic check   \n",
       "4787        One year               No    Credit card (automatic)   \n",
       "\n",
       "     MonthlyCharges TotalCharges Churn  \n",
       "0             24.10      1734.65    No  \n",
       "1             88.15       3973.2    No  \n",
       "2             74.95      2869.85   Yes  \n",
       "3             55.90        238.5    No  \n",
       "4             53.45        119.5    No  \n",
       "...             ...          ...   ...  \n",
       "4783          95.00           95   Yes  \n",
       "4784          91.10       2198.3    No  \n",
       "4785          21.15       306.05    No  \n",
       "4786          99.45      1200.15   Yes  \n",
       "4787          19.80        457.3    No  \n",
       "\n",
       "[4788 rows x 23 columns]"
      ]
     },
     "execution_count": 3,
     "metadata": {},
     "output_type": "execute_result"
    }
   ],
   "source": [
    "train"
   ]
  },
  {
   "cell_type": "code",
   "execution_count": 4,
   "id": "18ee846e",
   "metadata": {
    "execution": {
     "iopub.execute_input": "2022-06-02T13:20:23.582022Z",
     "iopub.status.busy": "2022-06-02T13:20:23.581577Z",
     "iopub.status.idle": "2022-06-02T13:20:23.595714Z",
     "shell.execute_reply": "2022-06-02T13:20:23.594598Z"
    },
    "papermill": {
     "duration": 0.02592,
     "end_time": "2022-06-02T13:20:23.597808",
     "exception": false,
     "start_time": "2022-06-02T13:20:23.571888",
     "status": "completed"
    },
    "tags": []
   },
   "outputs": [],
   "source": [
    "X_train = train.drop(['Churn'],axis =1)\n",
    "Y_train = train['Churn']\n",
    "\n",
    "X_test =test"
   ]
  },
  {
   "cell_type": "code",
   "execution_count": null,
   "id": "a4748542",
   "metadata": {
    "papermill": {
     "duration": 0.008033,
     "end_time": "2022-06-02T13:20:23.613613",
     "exception": false,
     "start_time": "2022-06-02T13:20:23.605580",
     "status": "completed"
    },
    "tags": []
   },
   "outputs": [],
   "source": []
  },
  {
   "cell_type": "code",
   "execution_count": 5,
   "id": "6c2f0b3d",
   "metadata": {
    "execution": {
     "iopub.execute_input": "2022-06-02T13:20:23.630935Z",
     "iopub.status.busy": "2022-06-02T13:20:23.630219Z",
     "iopub.status.idle": "2022-06-02T13:20:23.641556Z",
     "shell.execute_reply": "2022-06-02T13:20:23.640762Z"
    },
    "papermill": {
     "duration": 0.022613,
     "end_time": "2022-06-02T13:20:23.643893",
     "exception": false,
     "start_time": "2022-06-02T13:20:23.621280",
     "status": "completed"
    },
    "tags": []
   },
   "outputs": [],
   "source": [
    "X_train = X_train.drop(['index', 'Unnamed: 0','customerID'],axis =1)\n",
    "X_test = X_test.drop(['index', 'Unnamed: 0','customerID'],axis =1)"
   ]
  },
  {
   "cell_type": "code",
   "execution_count": 6,
   "id": "ab8322c6",
   "metadata": {
    "execution": {
     "iopub.execute_input": "2022-06-02T13:20:23.663620Z",
     "iopub.status.busy": "2022-06-02T13:20:23.662922Z",
     "iopub.status.idle": "2022-06-02T13:20:23.674072Z",
     "shell.execute_reply": "2022-06-02T13:20:23.672989Z"
    },
    "papermill": {
     "duration": 0.024051,
     "end_time": "2022-06-02T13:20:23.676662",
     "exception": false,
     "start_time": "2022-06-02T13:20:23.652611",
     "status": "completed"
    },
    "tags": []
   },
   "outputs": [
    {
     "data": {
      "text/html": [
       "<div>\n",
       "<style scoped>\n",
       "    .dataframe tbody tr th:only-of-type {\n",
       "        vertical-align: middle;\n",
       "    }\n",
       "\n",
       "    .dataframe tbody tr th {\n",
       "        vertical-align: top;\n",
       "    }\n",
       "\n",
       "    .dataframe thead th {\n",
       "        text-align: right;\n",
       "    }\n",
       "</style>\n",
       "<table border=\"1\" class=\"dataframe\">\n",
       "  <thead>\n",
       "    <tr style=\"text-align: right;\">\n",
       "      <th></th>\n",
       "      <th>Churn</th>\n",
       "    </tr>\n",
       "  </thead>\n",
       "  <tbody>\n",
       "    <tr>\n",
       "      <th>0</th>\n",
       "      <td>No</td>\n",
       "    </tr>\n",
       "    <tr>\n",
       "      <th>1</th>\n",
       "      <td>No</td>\n",
       "    </tr>\n",
       "    <tr>\n",
       "      <th>2</th>\n",
       "      <td>Yes</td>\n",
       "    </tr>\n",
       "    <tr>\n",
       "      <th>3</th>\n",
       "      <td>No</td>\n",
       "    </tr>\n",
       "    <tr>\n",
       "      <th>4</th>\n",
       "      <td>No</td>\n",
       "    </tr>\n",
       "  </tbody>\n",
       "</table>\n",
       "</div>"
      ],
      "text/plain": [
       "  Churn\n",
       "0    No\n",
       "1    No\n",
       "2   Yes\n",
       "3    No\n",
       "4    No"
      ]
     },
     "execution_count": 6,
     "metadata": {},
     "output_type": "execute_result"
    }
   ],
   "source": [
    "Y_train = pd.DataFrame(Y_train)\n",
    "Y_train.head(5)"
   ]
  },
  {
   "cell_type": "code",
   "execution_count": 7,
   "id": "76b5264b",
   "metadata": {
    "execution": {
     "iopub.execute_input": "2022-06-02T13:20:23.695407Z",
     "iopub.status.busy": "2022-06-02T13:20:23.694637Z",
     "iopub.status.idle": "2022-06-02T13:20:23.703634Z",
     "shell.execute_reply": "2022-06-02T13:20:23.702818Z"
    },
    "papermill": {
     "duration": 0.021193,
     "end_time": "2022-06-02T13:20:23.706040",
     "exception": false,
     "start_time": "2022-06-02T13:20:23.684847",
     "status": "completed"
    },
    "tags": []
   },
   "outputs": [],
   "source": [
    "Y_train[(Y_train['Churn'] == 'No')] =0\n",
    "Y_train[(Y_train['Churn'] == 'Yes')] = 1"
   ]
  },
  {
   "cell_type": "code",
   "execution_count": 8,
   "id": "7ca20545",
   "metadata": {
    "execution": {
     "iopub.execute_input": "2022-06-02T13:20:23.724553Z",
     "iopub.status.busy": "2022-06-02T13:20:23.723806Z",
     "iopub.status.idle": "2022-06-02T13:20:23.743232Z",
     "shell.execute_reply": "2022-06-02T13:20:23.742207Z"
    },
    "papermill": {
     "duration": 0.031463,
     "end_time": "2022-06-02T13:20:23.746101",
     "exception": false,
     "start_time": "2022-06-02T13:20:23.714638",
     "status": "completed"
    },
    "tags": []
   },
   "outputs": [
    {
     "name": "stdout",
     "output_type": "stream",
     "text": [
      "<class 'pandas.core.frame.DataFrame'>\n",
      "RangeIndex: 4788 entries, 0 to 4787\n",
      "Data columns (total 1 columns):\n",
      " #   Column  Non-Null Count  Dtype \n",
      "---  ------  --------------  ----- \n",
      " 0   Churn   4788 non-null   object\n",
      "dtypes: object(1)\n",
      "memory usage: 37.5+ KB\n"
     ]
    }
   ],
   "source": [
    "Y_train.info()"
   ]
  },
  {
   "cell_type": "code",
   "execution_count": 9,
   "id": "13fdad8e",
   "metadata": {
    "execution": {
     "iopub.execute_input": "2022-06-02T13:20:23.764084Z",
     "iopub.status.busy": "2022-06-02T13:20:23.763646Z",
     "iopub.status.idle": "2022-06-02T13:20:23.769987Z",
     "shell.execute_reply": "2022-06-02T13:20:23.768868Z"
    },
    "papermill": {
     "duration": 0.018454,
     "end_time": "2022-06-02T13:20:23.772262",
     "exception": false,
     "start_time": "2022-06-02T13:20:23.753808",
     "status": "completed"
    },
    "tags": []
   },
   "outputs": [],
   "source": [
    "Y_train['Churn'] = Y_train['Churn'].astype('int64')"
   ]
  },
  {
   "cell_type": "code",
   "execution_count": 10,
   "id": "9d66cd4f",
   "metadata": {
    "execution": {
     "iopub.execute_input": "2022-06-02T13:20:23.789543Z",
     "iopub.status.busy": "2022-06-02T13:20:23.789100Z",
     "iopub.status.idle": "2022-06-02T13:20:23.801404Z",
     "shell.execute_reply": "2022-06-02T13:20:23.800163Z"
    },
    "papermill": {
     "duration": 0.02402,
     "end_time": "2022-06-02T13:20:23.803907",
     "exception": false,
     "start_time": "2022-06-02T13:20:23.779887",
     "status": "completed"
    },
    "tags": []
   },
   "outputs": [
    {
     "name": "stdout",
     "output_type": "stream",
     "text": [
      "<class 'pandas.core.frame.DataFrame'>\n",
      "RangeIndex: 4788 entries, 0 to 4787\n",
      "Data columns (total 1 columns):\n",
      " #   Column  Non-Null Count  Dtype\n",
      "---  ------  --------------  -----\n",
      " 0   Churn   4788 non-null   int64\n",
      "dtypes: int64(1)\n",
      "memory usage: 37.5 KB\n"
     ]
    }
   ],
   "source": [
    "Y_train.info() "
   ]
  },
  {
   "cell_type": "code",
   "execution_count": 11,
   "id": "126cd43f",
   "metadata": {
    "execution": {
     "iopub.execute_input": "2022-06-02T13:20:23.821845Z",
     "iopub.status.busy": "2022-06-02T13:20:23.821423Z",
     "iopub.status.idle": "2022-06-02T13:20:25.234286Z",
     "shell.execute_reply": "2022-06-02T13:20:25.232525Z"
    },
    "papermill": {
     "duration": 1.425135,
     "end_time": "2022-06-02T13:20:25.236931",
     "exception": false,
     "start_time": "2022-06-02T13:20:23.811796",
     "status": "completed"
    },
    "tags": []
   },
   "outputs": [],
   "source": [
    "from sklearn.preprocessing import LabelEncoder\n",
    "\n",
    "columns = ['gender', 'Partner', 'Dependents','tenure',\n",
    "         'PhoneService', 'MultipleLines','InternetService','OnlineSecurity'\n",
    "        , 'OnlineBackup','DeviceProtection','TechSupport','StreamingTV'\n",
    "        , 'StreamingMovies','Contract','PaperlessBilling','PaymentMethod']\n",
    "\n",
    "for column in columns:\n",
    "    le =LabelEncoder()\n",
    "    X_train[column]=le.fit_transform(X_train[column].values)\n",
    "    X_test[column]=le.transform(X_test[column].values)"
   ]
  },
  {
   "cell_type": "code",
   "execution_count": 12,
   "id": "dde604ca",
   "metadata": {
    "execution": {
     "iopub.execute_input": "2022-06-02T13:20:25.259022Z",
     "iopub.status.busy": "2022-06-02T13:20:25.258553Z",
     "iopub.status.idle": "2022-06-02T13:20:25.300964Z",
     "shell.execute_reply": "2022-06-02T13:20:25.299046Z"
    },
    "papermill": {
     "duration": 0.059927,
     "end_time": "2022-06-02T13:20:25.304752",
     "exception": false,
     "start_time": "2022-06-02T13:20:25.244825",
     "status": "completed"
    },
    "tags": []
   },
   "outputs": [
    {
     "name": "stdout",
     "output_type": "stream",
     "text": [
      "<class 'pandas.core.frame.DataFrame'>\n",
      "RangeIndex: 4788 entries, 0 to 4787\n",
      "Data columns (total 19 columns):\n",
      " #   Column            Non-Null Count  Dtype  \n",
      "---  ------            --------------  -----  \n",
      " 0   gender            4788 non-null   int64  \n",
      " 1   SeniorCitizen     4788 non-null   int64  \n",
      " 2   Partner           4788 non-null   int64  \n",
      " 3   Dependents        4788 non-null   int64  \n",
      " 4   tenure            4788 non-null   int64  \n",
      " 5   PhoneService      4788 non-null   int64  \n",
      " 6   MultipleLines     4788 non-null   int64  \n",
      " 7   InternetService   4788 non-null   int64  \n",
      " 8   OnlineSecurity    4788 non-null   int64  \n",
      " 9   OnlineBackup      4788 non-null   int64  \n",
      " 10  DeviceProtection  4788 non-null   int64  \n",
      " 11  TechSupport       4788 non-null   int64  \n",
      " 12  StreamingTV       4788 non-null   int64  \n",
      " 13  StreamingMovies   4788 non-null   int64  \n",
      " 14  Contract          4788 non-null   int64  \n",
      " 15  PaperlessBilling  4788 non-null   int64  \n",
      " 16  PaymentMethod     4788 non-null   int64  \n",
      " 17  MonthlyCharges    4788 non-null   float64\n",
      " 18  TotalCharges      4788 non-null   object \n",
      "dtypes: float64(1), int64(17), object(1)\n",
      "memory usage: 710.8+ KB\n",
      "<class 'pandas.core.frame.DataFrame'>\n",
      "RangeIndex: 1198 entries, 0 to 1197\n",
      "Data columns (total 19 columns):\n",
      " #   Column            Non-Null Count  Dtype  \n",
      "---  ------            --------------  -----  \n",
      " 0   gender            1198 non-null   int64  \n",
      " 1   SeniorCitizen     1198 non-null   int64  \n",
      " 2   Partner           1198 non-null   int64  \n",
      " 3   Dependents        1198 non-null   int64  \n",
      " 4   tenure            1198 non-null   int64  \n",
      " 5   PhoneService      1198 non-null   int64  \n",
      " 6   MultipleLines     1198 non-null   int64  \n",
      " 7   InternetService   1198 non-null   int64  \n",
      " 8   OnlineSecurity    1198 non-null   int64  \n",
      " 9   OnlineBackup      1198 non-null   int64  \n",
      " 10  DeviceProtection  1198 non-null   int64  \n",
      " 11  TechSupport       1198 non-null   int64  \n",
      " 12  StreamingTV       1198 non-null   int64  \n",
      " 13  StreamingMovies   1198 non-null   int64  \n",
      " 14  Contract          1198 non-null   int64  \n",
      " 15  PaperlessBilling  1198 non-null   int64  \n",
      " 16  PaymentMethod     1198 non-null   int64  \n",
      " 17  MonthlyCharges    1198 non-null   float64\n",
      " 18  TotalCharges      1198 non-null   float64\n",
      "dtypes: float64(2), int64(17)\n",
      "memory usage: 178.0 KB\n"
     ]
    }
   ],
   "source": [
    "X_train.info()\n",
    "X_test.info()"
   ]
  },
  {
   "cell_type": "code",
   "execution_count": 13,
   "id": "876a54e4",
   "metadata": {
    "execution": {
     "iopub.execute_input": "2022-06-02T13:20:25.332185Z",
     "iopub.status.busy": "2022-06-02T13:20:25.331756Z",
     "iopub.status.idle": "2022-06-02T13:20:25.336648Z",
     "shell.execute_reply": "2022-06-02T13:20:25.335562Z"
    },
    "papermill": {
     "duration": 0.020768,
     "end_time": "2022-06-02T13:20:25.339016",
     "exception": false,
     "start_time": "2022-06-02T13:20:25.318248",
     "status": "completed"
    },
    "tags": []
   },
   "outputs": [],
   "source": [
    "#X_train[\"TotalCharges\"] = pd.to_numeric(X_train[\"TotalCharges\"], downcast = \"float\")\n",
    "#X_train[\"TotalCharges\"] = X_train[\"TotalCharges\"].astype('float64')"
   ]
  },
  {
   "cell_type": "code",
   "execution_count": 14,
   "id": "f07d41ef",
   "metadata": {
    "execution": {
     "iopub.execute_input": "2022-06-02T13:20:25.357550Z",
     "iopub.status.busy": "2022-06-02T13:20:25.357104Z",
     "iopub.status.idle": "2022-06-02T13:20:25.365524Z",
     "shell.execute_reply": "2022-06-02T13:20:25.364467Z"
    },
    "papermill": {
     "duration": 0.029272,
     "end_time": "2022-06-02T13:20:25.376248",
     "exception": false,
     "start_time": "2022-06-02T13:20:25.346976",
     "status": "completed"
    },
    "tags": []
   },
   "outputs": [
    {
     "data": {
      "text/plain": [
       "' '"
      ]
     },
     "execution_count": 14,
     "metadata": {},
     "output_type": "execute_result"
    }
   ],
   "source": [
    "X_train[\"TotalCharges\"][280]"
   ]
  },
  {
   "cell_type": "code",
   "execution_count": 15,
   "id": "fe7caf2c",
   "metadata": {
    "execution": {
     "iopub.execute_input": "2022-06-02T13:20:25.397148Z",
     "iopub.status.busy": "2022-06-02T13:20:25.396208Z",
     "iopub.status.idle": "2022-06-02T13:20:25.406453Z",
     "shell.execute_reply": "2022-06-02T13:20:25.405452Z"
    },
    "papermill": {
     "duration": 0.023166,
     "end_time": "2022-06-02T13:20:25.408920",
     "exception": false,
     "start_time": "2022-06-02T13:20:25.385754",
     "status": "completed"
    },
    "tags": []
   },
   "outputs": [
    {
     "data": {
      "text/plain": [
       "10"
      ]
     },
     "execution_count": 15,
     "metadata": {},
     "output_type": "execute_result"
    }
   ],
   "source": [
    "(X_train[\"TotalCharges\"] == ' ').sum()"
   ]
  },
  {
   "cell_type": "code",
   "execution_count": 16,
   "id": "4cdd2c2e",
   "metadata": {
    "execution": {
     "iopub.execute_input": "2022-06-02T13:20:25.428984Z",
     "iopub.status.busy": "2022-06-02T13:20:25.428061Z",
     "iopub.status.idle": "2022-06-02T13:20:25.440821Z",
     "shell.execute_reply": "2022-06-02T13:20:25.439755Z"
    },
    "papermill": {
     "duration": 0.025737,
     "end_time": "2022-06-02T13:20:25.443242",
     "exception": false,
     "start_time": "2022-06-02T13:20:25.417505",
     "status": "completed"
    },
    "tags": []
   },
   "outputs": [
    {
     "data": {
      "text/plain": [
       "Int64Index([280, 512, 2213, 2470, 2617, 3457, 4297, 4303, 4555, 4759], dtype='int64')"
      ]
     },
     "execution_count": 16,
     "metadata": {},
     "output_type": "execute_result"
    }
   ],
   "source": [
    "drop_idx = X_train[X_train[\"TotalCharges\"]== ' '].index\n",
    "drop_idx"
   ]
  },
  {
   "cell_type": "code",
   "execution_count": 17,
   "id": "b00ccf14",
   "metadata": {
    "execution": {
     "iopub.execute_input": "2022-06-02T13:20:25.463280Z",
     "iopub.status.busy": "2022-06-02T13:20:25.462372Z",
     "iopub.status.idle": "2022-06-02T13:20:25.471497Z",
     "shell.execute_reply": "2022-06-02T13:20:25.470105Z"
    },
    "papermill": {
     "duration": 0.023608,
     "end_time": "2022-06-02T13:20:25.475188",
     "exception": false,
     "start_time": "2022-06-02T13:20:25.451580",
     "status": "completed"
    },
    "tags": []
   },
   "outputs": [],
   "source": [
    "X_train = X_train.drop(drop_idx,axis =0)\n",
    "Y_train = Y_train.drop(drop_idx,axis =0)"
   ]
  },
  {
   "cell_type": "code",
   "execution_count": 18,
   "id": "3bf98db4",
   "metadata": {
    "execution": {
     "iopub.execute_input": "2022-06-02T13:20:25.499545Z",
     "iopub.status.busy": "2022-06-02T13:20:25.498929Z",
     "iopub.status.idle": "2022-06-02T13:20:25.505975Z",
     "shell.execute_reply": "2022-06-02T13:20:25.505095Z"
    },
    "papermill": {
     "duration": 0.020369,
     "end_time": "2022-06-02T13:20:25.508648",
     "exception": false,
     "start_time": "2022-06-02T13:20:25.488279",
     "status": "completed"
    },
    "tags": []
   },
   "outputs": [],
   "source": [
    "X_train[\"TotalCharges\"] = X_train[\"TotalCharges\"].astype('float64')"
   ]
  },
  {
   "cell_type": "code",
   "execution_count": 19,
   "id": "1ce455a1",
   "metadata": {
    "execution": {
     "iopub.execute_input": "2022-06-02T13:20:25.536633Z",
     "iopub.status.busy": "2022-06-02T13:20:25.535826Z",
     "iopub.status.idle": "2022-06-02T13:20:26.069305Z",
     "shell.execute_reply": "2022-06-02T13:20:26.067946Z"
    },
    "papermill": {
     "duration": 0.551014,
     "end_time": "2022-06-02T13:20:26.072621",
     "exception": false,
     "start_time": "2022-06-02T13:20:25.521607",
     "status": "completed"
    },
    "tags": []
   },
   "outputs": [],
   "source": [
    "from sklearn.linear_model import LogisticRegression\n",
    "\n",
    "\n",
    "clf = LogisticRegression(max_iter =1000)\n",
    "\n",
    "\n",
    "clf.fit(X_train,Y_train['Churn'])\n",
    "Y_test = clf.predict(X_test)"
   ]
  },
  {
   "cell_type": "code",
   "execution_count": 20,
   "id": "4ca2896c",
   "metadata": {
    "execution": {
     "iopub.execute_input": "2022-06-02T13:20:26.132949Z",
     "iopub.status.busy": "2022-06-02T13:20:26.132076Z",
     "iopub.status.idle": "2022-06-02T13:20:26.154436Z",
     "shell.execute_reply": "2022-06-02T13:20:26.152951Z"
    },
    "papermill": {
     "duration": 0.070171,
     "end_time": "2022-06-02T13:20:26.159396",
     "exception": false,
     "start_time": "2022-06-02T13:20:26.089225",
     "status": "completed"
    },
    "tags": []
   },
   "outputs": [],
   "source": [
    "submit = pd.read_csv('/kaggle/input/2022-ml-w13p2/sample_submit.csv')\n",
    "submit['Churn'] = Y_test\n",
    "submit.to_csv(\"submit.csv\",index =False)"
   ]
  },
  {
   "cell_type": "markdown",
   "id": "743e339e",
   "metadata": {
    "papermill": {
     "duration": 0.010492,
     "end_time": "2022-06-02T13:20:26.194856",
     "exception": false,
     "start_time": "2022-06-02T13:20:26.184364",
     "status": "completed"
    },
    "tags": []
   },
   "source": []
  },
  {
   "cell_type": "markdown",
   "id": "7ff33146",
   "metadata": {
    "papermill": {
     "duration": 0.008771,
     "end_time": "2022-06-02T13:20:26.212265",
     "exception": false,
     "start_time": "2022-06-02T13:20:26.203494",
     "status": "completed"
    },
    "tags": []
   },
   "source": []
  }
 ],
 "metadata": {
  "kernelspec": {
   "display_name": "Python 3",
   "language": "python",
   "name": "python3"
  },
  "language_info": {
   "codemirror_mode": {
    "name": "ipython",
    "version": 3
   },
   "file_extension": ".py",
   "mimetype": "text/x-python",
   "name": "python",
   "nbconvert_exporter": "python",
   "pygments_lexer": "ipython3",
   "version": "3.7.12"
  },
  "papermill": {
   "default_parameters": {},
   "duration": 16.496776,
   "end_time": "2022-06-02T13:20:27.045193",
   "environment_variables": {},
   "exception": null,
   "input_path": "__notebook__.ipynb",
   "output_path": "__notebook__.ipynb",
   "parameters": {},
   "start_time": "2022-06-02T13:20:10.548417",
   "version": "2.3.4"
  }
 },
 "nbformat": 4,
 "nbformat_minor": 5
}
