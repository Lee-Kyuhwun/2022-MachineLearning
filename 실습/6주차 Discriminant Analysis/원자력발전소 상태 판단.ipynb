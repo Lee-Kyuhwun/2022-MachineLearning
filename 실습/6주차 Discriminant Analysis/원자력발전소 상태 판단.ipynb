{
 "cells": [
  {
   "cell_type": "code",
   "execution_count": 1,
   "id": "d454f40f",
   "metadata": {
    "_cell_guid": "b1076dfc-b9ad-4769-8c92-a6c4dae69d19",
    "_uuid": "8f2839f25d086af736a60e9eeb907d3b93b6e0e5",
    "execution": {
     "iopub.execute_input": "2022-04-16T13:38:35.836340Z",
     "iopub.status.busy": "2022-04-16T13:38:35.835721Z",
     "iopub.status.idle": "2022-04-16T13:38:35.844262Z",
     "shell.execute_reply": "2022-04-16T13:38:35.844907Z",
     "shell.execute_reply.started": "2022-04-16T13:37:51.865813Z"
    },
    "papermill": {
     "duration": 0.030663,
     "end_time": "2022-04-16T13:38:35.845308",
     "exception": false,
     "start_time": "2022-04-16T13:38:35.814645",
     "status": "completed"
    },
    "tags": []
   },
   "outputs": [
    {
     "name": "stdout",
     "output_type": "stream",
     "text": [
      "/kaggle/input/2022-ml-w6p1/submit.csv\n",
      "/kaggle/input/2022-ml-w6p1/train.csv\n",
      "/kaggle/input/2022-ml-w6p1/test.csv\n",
      "/kaggle/input/2022-ml-w6p1/train_label.csv\n"
     ]
    }
   ],
   "source": [
    "# This Python 3 environment comes with many helpful analytics libraries installed\n",
    "# It is defined by the kaggle/python Docker image: https://github.com/kaggle/docker-python\n",
    "# For example, here's several helpful packages to load\n",
    "\n",
    "import numpy as np # linear algebra\n",
    "import pandas as pd # data processing, CSV file I/O (e.g. pd.read_csv)\n",
    "\n",
    "# Input data files are available in the read-only \"../input/\" directory\n",
    "# For example, running this (by clicking run or pressing Shift+Enter) will list all files under the input directory\n",
    "\n",
    "import os\n",
    "for dirname, _, filenames in os.walk('/kaggle/input'):\n",
    "    for filename in filenames:\n",
    "        print(os.path.join(dirname, filename))\n",
    "\n",
    "# You can write up to 20GB to the current directory (/kaggle/working/) that gets preserved as output when you create a version using \"Save & Run All\" \n",
    "# You can also write temporary files to /kaggle/temp/, but they won't be saved outside of the current session"
   ]
  },
  {
   "cell_type": "code",
   "execution_count": 2,
   "id": "dffb754c",
   "metadata": {
    "execution": {
     "iopub.execute_input": "2022-04-16T13:38:35.873507Z",
     "iopub.status.busy": "2022-04-16T13:38:35.872925Z",
     "iopub.status.idle": "2022-04-16T13:38:35.876460Z",
     "shell.execute_reply": "2022-04-16T13:38:35.876936Z",
     "shell.execute_reply.started": "2022-04-16T13:37:51.895472Z"
    },
    "papermill": {
     "duration": 0.017953,
     "end_time": "2022-04-16T13:38:35.877123",
     "exception": false,
     "start_time": "2022-04-16T13:38:35.859170",
     "status": "completed"
    },
    "tags": []
   },
   "outputs": [],
   "source": [
    "train_folder = \"/kaggle/input/2022-ml-w6p1/train.csv\"\n",
    "test_folder = \"/kaggle/input/2022-ml-w6p1/test.csv\"\n",
    "train_label_path = \"/kaggle/input/2022-ml-w6p1/train_label.csv\""
   ]
  },
  {
   "cell_type": "code",
   "execution_count": 3,
   "id": "281d9436",
   "metadata": {
    "execution": {
     "iopub.execute_input": "2022-04-16T13:38:35.902510Z",
     "iopub.status.busy": "2022-04-16T13:38:35.901867Z",
     "iopub.status.idle": "2022-04-16T13:38:40.256066Z",
     "shell.execute_reply": "2022-04-16T13:38:40.255481Z",
     "shell.execute_reply.started": "2022-04-16T13:37:51.926108Z"
    },
    "papermill": {
     "duration": 4.367753,
     "end_time": "2022-04-16T13:38:40.256224",
     "exception": false,
     "start_time": "2022-04-16T13:38:35.888471",
     "status": "completed"
    },
    "tags": []
   },
   "outputs": [],
   "source": [
    "train = pd.read_csv(train_folder)\n",
    "test = pd.read_csv(test_folder)\n",
    "train_label = pd.read_csv(train_label_path, index_col=0)"
   ]
  },
  {
   "cell_type": "markdown",
   "id": "948dad76",
   "metadata": {
    "papermill": {
     "duration": 0.010942,
     "end_time": "2022-04-16T13:38:40.278750",
     "exception": false,
     "start_time": "2022-04-16T13:38:40.267808",
     "status": "completed"
    },
    "tags": []
   },
   "source": []
  },
  {
   "cell_type": "code",
   "execution_count": 4,
   "id": "0e6308a9",
   "metadata": {
    "execution": {
     "iopub.execute_input": "2022-04-16T13:38:40.305481Z",
     "iopub.status.busy": "2022-04-16T13:38:40.304606Z",
     "iopub.status.idle": "2022-04-16T13:38:40.307853Z",
     "shell.execute_reply": "2022-04-16T13:38:40.307395Z",
     "shell.execute_reply.started": "2022-04-16T13:37:54.781548Z"
    },
    "papermill": {
     "duration": 0.018199,
     "end_time": "2022-04-16T13:38:40.308003",
     "exception": false,
     "start_time": "2022-04-16T13:38:40.289804",
     "status": "completed"
    },
    "tags": []
   },
   "outputs": [],
   "source": [
    "X_train = train\n",
    "y_train = train_label"
   ]
  },
  {
   "cell_type": "code",
   "execution_count": 5,
   "id": "bc527a2d",
   "metadata": {
    "execution": {
     "iopub.execute_input": "2022-04-16T13:38:40.336126Z",
     "iopub.status.busy": "2022-04-16T13:38:40.334845Z",
     "iopub.status.idle": "2022-04-16T13:38:40.337550Z",
     "shell.execute_reply": "2022-04-16T13:38:40.337036Z",
     "shell.execute_reply.started": "2022-04-16T13:37:54.788378Z"
    },
    "papermill": {
     "duration": 0.018156,
     "end_time": "2022-04-16T13:38:40.337686",
     "exception": false,
     "start_time": "2022-04-16T13:38:40.319530",
     "status": "completed"
    },
    "tags": []
   },
   "outputs": [],
   "source": [
    "X_test=test"
   ]
  },
  {
   "cell_type": "code",
   "execution_count": 6,
   "id": "cd671a13",
   "metadata": {
    "execution": {
     "iopub.execute_input": "2022-04-16T13:38:40.369103Z",
     "iopub.status.busy": "2022-04-16T13:38:40.365398Z",
     "iopub.status.idle": "2022-04-16T13:38:40.372949Z",
     "shell.execute_reply": "2022-04-16T13:38:40.372457Z",
     "shell.execute_reply.started": "2022-04-16T13:37:54.803116Z"
    },
    "papermill": {
     "duration": 0.023645,
     "end_time": "2022-04-16T13:38:40.373120",
     "exception": false,
     "start_time": "2022-04-16T13:38:40.349475",
     "status": "completed"
    },
    "tags": []
   },
   "outputs": [
    {
     "data": {
      "text/plain": [
       "(27671, 1)"
      ]
     },
     "execution_count": 6,
     "metadata": {},
     "output_type": "execute_result"
    }
   ],
   "source": [
    "y_train= np.array(y_train)\n",
    "y_train= y_train.reshape(-1, 1)\n",
    "y_train.shape"
   ]
  },
  {
   "cell_type": "markdown",
   "id": "dd54088d",
   "metadata": {
    "papermill": {
     "duration": 0.011169,
     "end_time": "2022-04-16T13:38:40.396011",
     "exception": false,
     "start_time": "2022-04-16T13:38:40.384842",
     "status": "completed"
    },
    "tags": []
   },
   "source": []
  },
  {
   "cell_type": "code",
   "execution_count": 7,
   "id": "8e92e728",
   "metadata": {
    "execution": {
     "iopub.execute_input": "2022-04-16T13:38:40.424558Z",
     "iopub.status.busy": "2022-04-16T13:38:40.423888Z",
     "iopub.status.idle": "2022-04-16T13:38:44.151872Z",
     "shell.execute_reply": "2022-04-16T13:38:44.152880Z",
     "shell.execute_reply.started": "2022-04-16T13:37:54.815685Z"
    },
    "papermill": {
     "duration": 3.745827,
     "end_time": "2022-04-16T13:38:44.153177",
     "exception": false,
     "start_time": "2022-04-16T13:38:40.407350",
     "status": "completed"
    },
    "tags": []
   },
   "outputs": [
    {
     "name": "stderr",
     "output_type": "stream",
     "text": [
      "/opt/conda/lib/python3.7/site-packages/sklearn/discriminant_analysis.py:878: UserWarning: Variables are collinear\n",
      "  warnings.warn(\"Variables are collinear\")\n"
     ]
    },
    {
     "data": {
      "text/plain": [
       "QuadraticDiscriminantAnalysis(tol=1)"
      ]
     },
     "execution_count": 7,
     "metadata": {},
     "output_type": "execute_result"
    }
   ],
   "source": [
    "from sklearn.discriminant_analysis import QuadraticDiscriminantAnalysis\n",
    "qda=QuadraticDiscriminantAnalysis(tol = 1)\n",
    "qda.fit(X_train,y_train.ravel())"
   ]
  },
  {
   "cell_type": "code",
   "execution_count": 8,
   "id": "a01b8623",
   "metadata": {
    "execution": {
     "iopub.execute_input": "2022-04-16T13:38:44.221468Z",
     "iopub.status.busy": "2022-04-16T13:38:44.209829Z",
     "iopub.status.idle": "2022-04-16T13:38:45.841979Z",
     "shell.execute_reply": "2022-04-16T13:38:45.843127Z",
     "shell.execute_reply.started": "2022-04-16T13:37:57.469905Z"
    },
    "papermill": {
     "duration": 1.666501,
     "end_time": "2022-04-16T13:38:45.843386",
     "exception": false,
     "start_time": "2022-04-16T13:38:44.176885",
     "status": "completed"
    },
    "tags": []
   },
   "outputs": [
    {
     "name": "stderr",
     "output_type": "stream",
     "text": [
      "/opt/conda/lib/python3.7/site-packages/sklearn/utils/validation.py:985: DataConversionWarning: A column-vector y was passed when a 1d array was expected. Please change the shape of y to (n_samples, ), for example using ravel().\n",
      "  y = column_or_1d(y, warn=True)\n"
     ]
    },
    {
     "data": {
      "text/plain": [
       "LinearDiscriminantAnalysis(tol=0.01)"
      ]
     },
     "execution_count": 8,
     "metadata": {},
     "output_type": "execute_result"
    }
   ],
   "source": [
    "from sklearn.discriminant_analysis import LinearDiscriminantAnalysis\n",
    "lda=LinearDiscriminantAnalysis(tol =0.01)\n",
    "lda.fit(X_train,y_train)"
   ]
  },
  {
   "cell_type": "code",
   "execution_count": 9,
   "id": "24cb54db",
   "metadata": {
    "execution": {
     "iopub.execute_input": "2022-04-16T13:38:45.933685Z",
     "iopub.status.busy": "2022-04-16T13:38:45.929413Z",
     "iopub.status.idle": "2022-04-16T13:38:53.289238Z",
     "shell.execute_reply": "2022-04-16T13:38:53.290678Z",
     "shell.execute_reply.started": "2022-04-16T13:37:59.091012Z"
    },
    "papermill": {
     "duration": 7.409177,
     "end_time": "2022-04-16T13:38:53.290989",
     "exception": false,
     "start_time": "2022-04-16T13:38:45.881812",
     "status": "completed"
    },
    "tags": []
   },
   "outputs": [],
   "source": [
    "qda_pred=qda.predict(X_test)\n",
    "lda_pred=lda.predict(X_test)"
   ]
  },
  {
   "cell_type": "code",
   "execution_count": 10,
   "id": "f39f1a63",
   "metadata": {
    "execution": {
     "iopub.execute_input": "2022-04-16T13:38:53.349261Z",
     "iopub.status.busy": "2022-04-16T13:38:53.348109Z",
     "iopub.status.idle": "2022-04-16T13:38:53.363407Z",
     "shell.execute_reply": "2022-04-16T13:38:53.365239Z",
     "shell.execute_reply.started": "2022-04-16T13:38:06.821600Z"
    },
    "papermill": {
     "duration": 0.049002,
     "end_time": "2022-04-16T13:38:53.365555",
     "exception": false,
     "start_time": "2022-04-16T13:38:53.316553",
     "status": "completed"
    },
    "tags": []
   },
   "outputs": [],
   "source": [
    "submit = pd.read_csv('/kaggle/input/2022-ml-w6p1/submit.csv')"
   ]
  },
  {
   "cell_type": "code",
   "execution_count": 11,
   "id": "2b93c9d2",
   "metadata": {
    "execution": {
     "iopub.execute_input": "2022-04-16T13:38:53.409257Z",
     "iopub.status.busy": "2022-04-16T13:38:53.408299Z",
     "iopub.status.idle": "2022-04-16T13:38:53.410053Z",
     "shell.execute_reply": "2022-04-16T13:38:53.410477Z",
     "shell.execute_reply.started": "2022-04-16T13:38:06.849919Z"
    },
    "papermill": {
     "duration": 0.021176,
     "end_time": "2022-04-16T13:38:53.410636",
     "exception": false,
     "start_time": "2022-04-16T13:38:53.389460",
     "status": "completed"
    },
    "tags": []
   },
   "outputs": [],
   "source": [
    "submit['label']= lda_pred"
   ]
  },
  {
   "cell_type": "code",
   "execution_count": 12,
   "id": "0fb83476",
   "metadata": {
    "execution": {
     "iopub.execute_input": "2022-04-16T13:38:53.439520Z",
     "iopub.status.busy": "2022-04-16T13:38:53.438897Z",
     "iopub.status.idle": "2022-04-16T13:38:53.459181Z",
     "shell.execute_reply": "2022-04-16T13:38:53.459631Z",
     "shell.execute_reply.started": "2022-04-16T13:38:06.869473Z"
    },
    "papermill": {
     "duration": 0.036379,
     "end_time": "2022-04-16T13:38:53.459810",
     "exception": false,
     "start_time": "2022-04-16T13:38:53.423431",
     "status": "completed"
    },
    "tags": []
   },
   "outputs": [],
   "source": [
    "submit = submit.to_csv('submit.csv',index=False)"
   ]
  }
 ],
 "metadata": {
  "kernelspec": {
   "display_name": "Python 3",
   "language": "python",
   "name": "python3"
  },
  "language_info": {
   "codemirror_mode": {
    "name": "ipython",
    "version": 3
   },
   "file_extension": ".py",
   "mimetype": "text/x-python",
   "name": "python",
   "nbconvert_exporter": "python",
   "pygments_lexer": "ipython3",
   "version": "3.7.12"
  },
  "papermill": {
   "default_parameters": {},
   "duration": 27.299325,
   "end_time": "2022-04-16T13:38:54.183093",
   "environment_variables": {},
   "exception": null,
   "input_path": "__notebook__.ipynb",
   "output_path": "__notebook__.ipynb",
   "parameters": {},
   "start_time": "2022-04-16T13:38:26.883768",
   "version": "2.3.3"
  }
 },
 "nbformat": 4,
 "nbformat_minor": 5
}
