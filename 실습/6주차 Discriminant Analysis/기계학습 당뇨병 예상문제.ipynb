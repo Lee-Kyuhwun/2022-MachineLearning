{
 "cells": [
  {
   "cell_type": "code",
   "execution_count": 1,
   "id": "24b692ca",
   "metadata": {
    "_cell_guid": "b1076dfc-b9ad-4769-8c92-a6c4dae69d19",
    "_uuid": "8f2839f25d086af736a60e9eeb907d3b93b6e0e5",
    "execution": {
     "iopub.execute_input": "2022-04-16T14:04:24.360686Z",
     "iopub.status.busy": "2022-04-16T14:04:24.359422Z",
     "iopub.status.idle": "2022-04-16T14:04:24.373546Z",
     "shell.execute_reply": "2022-04-16T14:04:24.374172Z",
     "shell.execute_reply.started": "2022-04-16T14:03:58.461790Z"
    },
    "papermill": {
     "duration": 0.032886,
     "end_time": "2022-04-16T14:04:24.374535",
     "exception": false,
     "start_time": "2022-04-16T14:04:24.341649",
     "status": "completed"
    },
    "tags": []
   },
   "outputs": [
    {
     "name": "stdout",
     "output_type": "stream",
     "text": [
      "/kaggle/input/2022-ml-w6p2/submit.csv\n",
      "/kaggle/input/2022-ml-w6p2/train.csv\n",
      "/kaggle/input/2022-ml-w6p2/test.csv\n"
     ]
    }
   ],
   "source": [
    "# This Python 3 environment comes with many helpful analytics libraries installed\n",
    "# It is defined by the kaggle/python Docker image: https://github.com/kaggle/docker-python\n",
    "# For example, here's several helpful packages to load\n",
    "\n",
    "import numpy as np # linear algebra\n",
    "import pandas as pd # data processing, CSV file I/O (e.g. pd.read_csv)\n",
    "\n",
    "# Input data files are available in the read-only \"../input/\" directory\n",
    "# For example, running this (by clicking run or pressing Shift+Enter) will list all files under the input directory\n",
    "\n",
    "import os\n",
    "for dirname, _, filenames in os.walk('/kaggle/input'):\n",
    "    for filename in filenames:\n",
    "        print(os.path.join(dirname, filename))\n",
    "\n",
    "# You can write up to 20GB to the current directory (/kaggle/working/) that gets preserved as output when you create a version using \"Save & Run All\" \n",
    "# You can also write temporary files to /kaggle/temp/, but they won't be saved outside of the current session"
   ]
  },
  {
   "cell_type": "code",
   "execution_count": 2,
   "id": "90c9060c",
   "metadata": {
    "execution": {
     "iopub.execute_input": "2022-04-16T14:04:24.404453Z",
     "iopub.status.busy": "2022-04-16T14:04:24.403472Z",
     "iopub.status.idle": "2022-04-16T14:04:24.430772Z",
     "shell.execute_reply": "2022-04-16T14:04:24.430144Z",
     "shell.execute_reply.started": "2022-04-16T14:03:58.484936Z"
    },
    "papermill": {
     "duration": 0.042989,
     "end_time": "2022-04-16T14:04:24.430934",
     "exception": false,
     "start_time": "2022-04-16T14:04:24.387945",
     "status": "completed"
    },
    "tags": []
   },
   "outputs": [],
   "source": [
    "train = pd.read_csv('/kaggle/input/2022-ml-w6p2/train.csv')\n",
    "test = pd.read_csv('/kaggle/input/2022-ml-w6p2/test.csv')\n",
    "submit = pd.read_csv('/kaggle/input/2022-ml-w6p2/submit.csv')"
   ]
  },
  {
   "cell_type": "code",
   "execution_count": 3,
   "id": "cd4fe62a",
   "metadata": {
    "execution": {
     "iopub.execute_input": "2022-04-16T14:04:24.460063Z",
     "iopub.status.busy": "2022-04-16T14:04:24.459413Z",
     "iopub.status.idle": "2022-04-16T14:04:24.486917Z",
     "shell.execute_reply": "2022-04-16T14:04:24.487377Z",
     "shell.execute_reply.started": "2022-04-16T14:03:58.517075Z"
    },
    "papermill": {
     "duration": 0.043625,
     "end_time": "2022-04-16T14:04:24.487555",
     "exception": false,
     "start_time": "2022-04-16T14:04:24.443930",
     "status": "completed"
    },
    "tags": []
   },
   "outputs": [
    {
     "data": {
      "text/html": [
       "<div>\n",
       "<style scoped>\n",
       "    .dataframe tbody tr th:only-of-type {\n",
       "        vertical-align: middle;\n",
       "    }\n",
       "\n",
       "    .dataframe tbody tr th {\n",
       "        vertical-align: top;\n",
       "    }\n",
       "\n",
       "    .dataframe thead th {\n",
       "        text-align: right;\n",
       "    }\n",
       "</style>\n",
       "<table border=\"1\" class=\"dataframe\">\n",
       "  <thead>\n",
       "    <tr style=\"text-align: right;\">\n",
       "      <th></th>\n",
       "      <th>Pregnancies</th>\n",
       "      <th>Glucose</th>\n",
       "      <th>BloodPressure</th>\n",
       "      <th>SkinThickness</th>\n",
       "      <th>Insulin</th>\n",
       "      <th>BMI</th>\n",
       "      <th>DiabetesPedigreeFunction</th>\n",
       "      <th>Age</th>\n",
       "      <th>Diabetes</th>\n",
       "    </tr>\n",
       "  </thead>\n",
       "  <tbody>\n",
       "    <tr>\n",
       "      <th>0</th>\n",
       "      <td>1</td>\n",
       "      <td>95</td>\n",
       "      <td>60</td>\n",
       "      <td>18</td>\n",
       "      <td>58</td>\n",
       "      <td>23.9</td>\n",
       "      <td>0.260</td>\n",
       "      <td>22</td>\n",
       "      <td>0</td>\n",
       "    </tr>\n",
       "    <tr>\n",
       "      <th>1</th>\n",
       "      <td>5</td>\n",
       "      <td>105</td>\n",
       "      <td>72</td>\n",
       "      <td>29</td>\n",
       "      <td>325</td>\n",
       "      <td>36.9</td>\n",
       "      <td>0.159</td>\n",
       "      <td>28</td>\n",
       "      <td>0</td>\n",
       "    </tr>\n",
       "    <tr>\n",
       "      <th>2</th>\n",
       "      <td>0</td>\n",
       "      <td>135</td>\n",
       "      <td>68</td>\n",
       "      <td>42</td>\n",
       "      <td>250</td>\n",
       "      <td>42.3</td>\n",
       "      <td>0.365</td>\n",
       "      <td>24</td>\n",
       "      <td>1</td>\n",
       "    </tr>\n",
       "    <tr>\n",
       "      <th>3</th>\n",
       "      <td>4</td>\n",
       "      <td>131</td>\n",
       "      <td>68</td>\n",
       "      <td>21</td>\n",
       "      <td>166</td>\n",
       "      <td>33.1</td>\n",
       "      <td>0.160</td>\n",
       "      <td>28</td>\n",
       "      <td>0</td>\n",
       "    </tr>\n",
       "    <tr>\n",
       "      <th>4</th>\n",
       "      <td>1</td>\n",
       "      <td>103</td>\n",
       "      <td>30</td>\n",
       "      <td>38</td>\n",
       "      <td>83</td>\n",
       "      <td>43.3</td>\n",
       "      <td>0.183</td>\n",
       "      <td>33</td>\n",
       "      <td>0</td>\n",
       "    </tr>\n",
       "    <tr>\n",
       "      <th>...</th>\n",
       "      <td>...</td>\n",
       "      <td>...</td>\n",
       "      <td>...</td>\n",
       "      <td>...</td>\n",
       "      <td>...</td>\n",
       "      <td>...</td>\n",
       "      <td>...</td>\n",
       "      <td>...</td>\n",
       "      <td>...</td>\n",
       "    </tr>\n",
       "    <tr>\n",
       "      <th>532</th>\n",
       "      <td>5</td>\n",
       "      <td>139</td>\n",
       "      <td>64</td>\n",
       "      <td>35</td>\n",
       "      <td>140</td>\n",
       "      <td>28.6</td>\n",
       "      <td>0.411</td>\n",
       "      <td>26</td>\n",
       "      <td>0</td>\n",
       "    </tr>\n",
       "    <tr>\n",
       "      <th>533</th>\n",
       "      <td>1</td>\n",
       "      <td>96</td>\n",
       "      <td>122</td>\n",
       "      <td>0</td>\n",
       "      <td>0</td>\n",
       "      <td>22.4</td>\n",
       "      <td>0.207</td>\n",
       "      <td>27</td>\n",
       "      <td>0</td>\n",
       "    </tr>\n",
       "    <tr>\n",
       "      <th>534</th>\n",
       "      <td>10</td>\n",
       "      <td>101</td>\n",
       "      <td>86</td>\n",
       "      <td>37</td>\n",
       "      <td>0</td>\n",
       "      <td>45.6</td>\n",
       "      <td>1.136</td>\n",
       "      <td>38</td>\n",
       "      <td>1</td>\n",
       "    </tr>\n",
       "    <tr>\n",
       "      <th>535</th>\n",
       "      <td>0</td>\n",
       "      <td>141</td>\n",
       "      <td>0</td>\n",
       "      <td>0</td>\n",
       "      <td>0</td>\n",
       "      <td>42.4</td>\n",
       "      <td>0.205</td>\n",
       "      <td>29</td>\n",
       "      <td>1</td>\n",
       "    </tr>\n",
       "    <tr>\n",
       "      <th>536</th>\n",
       "      <td>0</td>\n",
       "      <td>125</td>\n",
       "      <td>96</td>\n",
       "      <td>0</td>\n",
       "      <td>0</td>\n",
       "      <td>22.5</td>\n",
       "      <td>0.262</td>\n",
       "      <td>21</td>\n",
       "      <td>0</td>\n",
       "    </tr>\n",
       "  </tbody>\n",
       "</table>\n",
       "<p>537 rows × 9 columns</p>\n",
       "</div>"
      ],
      "text/plain": [
       "     Pregnancies  Glucose  BloodPressure  SkinThickness  Insulin   BMI  \\\n",
       "0              1       95             60             18       58  23.9   \n",
       "1              5      105             72             29      325  36.9   \n",
       "2              0      135             68             42      250  42.3   \n",
       "3              4      131             68             21      166  33.1   \n",
       "4              1      103             30             38       83  43.3   \n",
       "..           ...      ...            ...            ...      ...   ...   \n",
       "532            5      139             64             35      140  28.6   \n",
       "533            1       96            122              0        0  22.4   \n",
       "534           10      101             86             37        0  45.6   \n",
       "535            0      141              0              0        0  42.4   \n",
       "536            0      125             96              0        0  22.5   \n",
       "\n",
       "     DiabetesPedigreeFunction  Age  Diabetes  \n",
       "0                       0.260   22         0  \n",
       "1                       0.159   28         0  \n",
       "2                       0.365   24         1  \n",
       "3                       0.160   28         0  \n",
       "4                       0.183   33         0  \n",
       "..                        ...  ...       ...  \n",
       "532                     0.411   26         0  \n",
       "533                     0.207   27         0  \n",
       "534                     1.136   38         1  \n",
       "535                     0.205   29         1  \n",
       "536                     0.262   21         0  \n",
       "\n",
       "[537 rows x 9 columns]"
      ]
     },
     "execution_count": 3,
     "metadata": {},
     "output_type": "execute_result"
    }
   ],
   "source": [
    "train"
   ]
  },
  {
   "cell_type": "code",
   "execution_count": 4,
   "id": "2c937406",
   "metadata": {
    "execution": {
     "iopub.execute_input": "2022-04-16T14:04:24.523610Z",
     "iopub.status.busy": "2022-04-16T14:04:24.522957Z",
     "iopub.status.idle": "2022-04-16T14:04:24.525328Z",
     "shell.execute_reply": "2022-04-16T14:04:24.525931Z",
     "shell.execute_reply.started": "2022-04-16T14:03:58.546181Z"
    },
    "papermill": {
     "duration": 0.025077,
     "end_time": "2022-04-16T14:04:24.526103",
     "exception": false,
     "start_time": "2022-04-16T14:04:24.501026",
     "status": "completed"
    },
    "tags": []
   },
   "outputs": [],
   "source": [
    "train_x = train.drop(['Diabetes'], axis=1)\n"
   ]
  },
  {
   "cell_type": "code",
   "execution_count": 5,
   "id": "6afca0bc",
   "metadata": {
    "execution": {
     "iopub.execute_input": "2022-04-16T14:04:24.559865Z",
     "iopub.status.busy": "2022-04-16T14:04:24.559190Z",
     "iopub.status.idle": "2022-04-16T14:04:24.560752Z",
     "shell.execute_reply": "2022-04-16T14:04:24.561339Z",
     "shell.execute_reply.started": "2022-04-16T14:03:58.573517Z"
    },
    "papermill": {
     "duration": 0.021947,
     "end_time": "2022-04-16T14:04:24.561509",
     "exception": false,
     "start_time": "2022-04-16T14:04:24.539562",
     "status": "completed"
    },
    "tags": []
   },
   "outputs": [],
   "source": [
    "train_y = train['Diabetes']"
   ]
  },
  {
   "cell_type": "code",
   "execution_count": 6,
   "id": "7ced2b3d",
   "metadata": {
    "execution": {
     "iopub.execute_input": "2022-04-16T14:04:24.597437Z",
     "iopub.status.busy": "2022-04-16T14:04:24.595726Z",
     "iopub.status.idle": "2022-04-16T14:04:24.599086Z",
     "shell.execute_reply": "2022-04-16T14:04:24.599714Z",
     "shell.execute_reply.started": "2022-04-16T14:03:58.602466Z"
    },
    "papermill": {
     "duration": 0.023542,
     "end_time": "2022-04-16T14:04:24.599903",
     "exception": false,
     "start_time": "2022-04-16T14:04:24.576361",
     "status": "completed"
    },
    "tags": []
   },
   "outputs": [],
   "source": [
    "test_x = test"
   ]
  },
  {
   "cell_type": "code",
   "execution_count": 7,
   "id": "e05cd701",
   "metadata": {
    "execution": {
     "iopub.execute_input": "2022-04-16T14:04:24.638565Z",
     "iopub.status.busy": "2022-04-16T14:04:24.637831Z",
     "iopub.status.idle": "2022-04-16T14:04:25.863904Z",
     "shell.execute_reply": "2022-04-16T14:04:25.864429Z",
     "shell.execute_reply.started": "2022-04-16T14:03:58.630818Z"
    },
    "papermill": {
     "duration": 1.247352,
     "end_time": "2022-04-16T14:04:25.864597",
     "exception": false,
     "start_time": "2022-04-16T14:04:24.617245",
     "status": "completed"
    },
    "tags": []
   },
   "outputs": [
    {
     "data": {
      "text/plain": [
       "LinearDiscriminantAnalysis()"
      ]
     },
     "execution_count": 7,
     "metadata": {},
     "output_type": "execute_result"
    }
   ],
   "source": [
    "from sklearn.discriminant_analysis import LinearDiscriminantAnalysis\n",
    "lda = LinearDiscriminantAnalysis()\n",
    "lda.fit(train_x, train_y)"
   ]
  },
  {
   "cell_type": "code",
   "execution_count": 8,
   "id": "a835643e",
   "metadata": {
    "execution": {
     "iopub.execute_input": "2022-04-16T14:04:25.895672Z",
     "iopub.status.busy": "2022-04-16T14:04:25.895048Z",
     "iopub.status.idle": "2022-04-16T14:04:25.901463Z",
     "shell.execute_reply": "2022-04-16T14:04:25.900925Z",
     "shell.execute_reply.started": "2022-04-16T14:03:58.656797Z"
    },
    "papermill": {
     "duration": 0.02322,
     "end_time": "2022-04-16T14:04:25.901599",
     "exception": false,
     "start_time": "2022-04-16T14:04:25.878379",
     "status": "completed"
    },
    "tags": []
   },
   "outputs": [],
   "source": [
    "lda_pred = lda.predict(test_x)\n"
   ]
  },
  {
   "cell_type": "code",
   "execution_count": 9,
   "id": "736b6b6c",
   "metadata": {
    "execution": {
     "iopub.execute_input": "2022-04-16T14:04:25.934300Z",
     "iopub.status.busy": "2022-04-16T14:04:25.933605Z",
     "iopub.status.idle": "2022-04-16T14:04:25.936417Z",
     "shell.execute_reply": "2022-04-16T14:04:25.935911Z",
     "shell.execute_reply.started": "2022-04-16T14:03:58.681673Z"
    },
    "papermill": {
     "duration": 0.020505,
     "end_time": "2022-04-16T14:04:25.936561",
     "exception": false,
     "start_time": "2022-04-16T14:04:25.916056",
     "status": "completed"
    },
    "tags": []
   },
   "outputs": [],
   "source": [
    "#submit['Diabetes'] = lda_pred\n",
    "\n"
   ]
  },
  {
   "cell_type": "code",
   "execution_count": 10,
   "id": "fcabb242",
   "metadata": {
    "execution": {
     "iopub.execute_input": "2022-04-16T14:04:25.972030Z",
     "iopub.status.busy": "2022-04-16T14:04:25.971330Z",
     "iopub.status.idle": "2022-04-16T14:04:25.985384Z",
     "shell.execute_reply": "2022-04-16T14:04:25.985891Z",
     "shell.execute_reply.started": "2022-04-16T14:03:58.719082Z"
    },
    "papermill": {
     "duration": 0.035531,
     "end_time": "2022-04-16T14:04:25.986085",
     "exception": false,
     "start_time": "2022-04-16T14:04:25.950554",
     "status": "completed"
    },
    "tags": []
   },
   "outputs": [],
   "source": [
    "from sklearn.discriminant_analysis import QuadraticDiscriminantAnalysis\n",
    "qda = QuadraticDiscriminantAnalysis(reg_param=0.001)\n",
    "qda.fit(train_x,train_y)\n",
    "qda_pred= qda.predict(test_x)\n",
    "submit['Diabetes']= qda_pred"
   ]
  },
  {
   "cell_type": "code",
   "execution_count": 11,
   "id": "02ce60b7",
   "metadata": {
    "execution": {
     "iopub.execute_input": "2022-04-16T14:04:26.017561Z",
     "iopub.status.busy": "2022-04-16T14:04:26.016961Z",
     "iopub.status.idle": "2022-04-16T14:04:26.023317Z",
     "shell.execute_reply": "2022-04-16T14:04:26.023848Z",
     "shell.execute_reply.started": "2022-04-16T14:03:58.755453Z"
    },
    "papermill": {
     "duration": 0.02401,
     "end_time": "2022-04-16T14:04:26.024033",
     "exception": false,
     "start_time": "2022-04-16T14:04:26.000023",
     "status": "completed"
    },
    "tags": []
   },
   "outputs": [],
   "source": [
    "submit.to_csv('submit.csv',index =False)"
   ]
  }
 ],
 "metadata": {
  "kernelspec": {
   "display_name": "Python 3",
   "language": "python",
   "name": "python3"
  },
  "language_info": {
   "codemirror_mode": {
    "name": "ipython",
    "version": 3
   },
   "file_extension": ".py",
   "mimetype": "text/x-python",
   "name": "python",
   "nbconvert_exporter": "python",
   "pygments_lexer": "ipython3",
   "version": "3.7.12"
  },
  "papermill": {
   "default_parameters": {},
   "duration": 12.339808,
   "end_time": "2022-04-16T14:04:26.748189",
   "environment_variables": {},
   "exception": null,
   "input_path": "__notebook__.ipynb",
   "output_path": "__notebook__.ipynb",
   "parameters": {},
   "start_time": "2022-04-16T14:04:14.408381",
   "version": "2.3.3"
  }
 },
 "nbformat": 4,
 "nbformat_minor": 5
}
