{
 "cells": [
  {
   "cell_type": "code",
   "execution_count": 1,
   "id": "574e6554",
   "metadata": {
    "_cell_guid": "b1076dfc-b9ad-4769-8c92-a6c4dae69d19",
    "_uuid": "8f2839f25d086af736a60e9eeb907d3b93b6e0e5",
    "execution": {
     "iopub.execute_input": "2022-04-08T07:07:05.386534Z",
     "iopub.status.busy": "2022-04-08T07:07:05.384084Z",
     "iopub.status.idle": "2022-04-08T07:07:05.393016Z",
     "shell.execute_reply": "2022-04-08T07:07:05.393874Z",
     "shell.execute_reply.started": "2022-04-08T07:06:31.334831Z"
    },
    "papermill": {
     "duration": 0.027961,
     "end_time": "2022-04-08T07:07:05.394318",
     "exception": false,
     "start_time": "2022-04-08T07:07:05.366357",
     "status": "completed"
    },
    "tags": []
   },
   "outputs": [
    {
     "name": "stdout",
     "output_type": "stream",
     "text": [
      "/kaggle/input/2022-ml-w5p2/trainX.csv\n",
      "/kaggle/input/2022-ml-w5p2/testX.csv\n",
      "/kaggle/input/2022-ml-w5p2/trainY.csv\n",
      "/kaggle/input/2022-ml-w5p2/submit.csv\n"
     ]
    }
   ],
   "source": [
    "# This Python 3 environment comes with many helpful analytics libraries installed\n",
    "# It is defined by the kaggle/python Docker image: https://github.com/kaggle/docker-python\n",
    "# For example, here's several helpful packages to load\n",
    "\n",
    "import numpy as np # linear algebra\n",
    "import pandas as pd # data processing, CSV file I/O (e.g. pd.read_csv)\n",
    "\n",
    "# Input data files are available in the read-only \"../input/\" directory\n",
    "# For example, running this (by clicking run or pressing Shift+Enter) will list all files under the input directory\n",
    "\n",
    "import os\n",
    "for dirname, _, filenames in os.walk('/kaggle/input'):\n",
    "    for filename in filenames:\n",
    "        print(os.path.join(dirname, filename))\n",
    "\n",
    "# You can write up to 20GB to the current directory (/kaggle/working/) that gets preserved as output when you create a version using \"Save & Run All\" \n",
    "# You can also write temporary files to /kaggle/temp/, but they won't be saved outside of the current session"
   ]
  },
  {
   "cell_type": "code",
   "execution_count": 2,
   "id": "e71e87f6",
   "metadata": {
    "execution": {
     "iopub.execute_input": "2022-04-08T07:07:05.418793Z",
     "iopub.status.busy": "2022-04-08T07:07:05.418102Z",
     "iopub.status.idle": "2022-04-08T07:07:05.421832Z",
     "shell.execute_reply": "2022-04-08T07:07:05.421161Z",
     "shell.execute_reply.started": "2022-04-08T07:06:31.349825Z"
    },
    "papermill": {
     "duration": 0.017541,
     "end_time": "2022-04-08T07:07:05.422012",
     "exception": false,
     "start_time": "2022-04-08T07:07:05.404471",
     "status": "completed"
    },
    "tags": []
   },
   "outputs": [],
   "source": [
    "import random\n",
    "import os\n",
    "seed = 42\n",
    "random.seed(seed)\n",
    "np.random.seed(seed)\n",
    "os.environ[\"PYTHONHASHSEED\"] = str(seed)"
   ]
  },
  {
   "cell_type": "code",
   "execution_count": 3,
   "id": "178d0939",
   "metadata": {
    "execution": {
     "iopub.execute_input": "2022-04-08T07:07:05.444764Z",
     "iopub.status.busy": "2022-04-08T07:07:05.443807Z",
     "iopub.status.idle": "2022-04-08T07:07:05.476160Z",
     "shell.execute_reply": "2022-04-08T07:07:05.476890Z",
     "shell.execute_reply.started": "2022-04-08T07:06:31.367143Z"
    },
    "papermill": {
     "duration": 0.046973,
     "end_time": "2022-04-08T07:07:05.477294",
     "exception": false,
     "start_time": "2022-04-08T07:07:05.430321",
     "status": "completed"
    },
    "tags": []
   },
   "outputs": [],
   "source": [
    "x_train= pd.read_csv('/kaggle/input/2022-ml-w5p2/trainX.csv')\n",
    "x_test= pd.read_csv('/kaggle/input/2022-ml-w5p2/testX.csv')\n",
    "y_train= pd.read_csv('/kaggle/input/2022-ml-w5p2/trainY.csv')\n",
    "submit = pd.read_csv('/kaggle/input/2022-ml-w5p2/submit.csv')"
   ]
  },
  {
   "cell_type": "code",
   "execution_count": 4,
   "id": "af8e3c28",
   "metadata": {
    "execution": {
     "iopub.execute_input": "2022-04-08T07:07:05.500253Z",
     "iopub.status.busy": "2022-04-08T07:07:05.499290Z",
     "iopub.status.idle": "2022-04-08T07:07:05.501669Z",
     "shell.execute_reply": "2022-04-08T07:07:05.502320Z",
     "shell.execute_reply.started": "2022-04-08T07:06:31.391772Z"
    },
    "papermill": {
     "duration": 0.016687,
     "end_time": "2022-04-08T07:07:05.502540",
     "exception": false,
     "start_time": "2022-04-08T07:07:05.485853",
     "status": "completed"
    },
    "tags": []
   },
   "outputs": [],
   "source": [
    "y_train = y_train.values\n",
    "y_train = y_train[:,0]"
   ]
  },
  {
   "cell_type": "code",
   "execution_count": 5,
   "id": "486ad56d",
   "metadata": {
    "execution": {
     "iopub.execute_input": "2022-04-08T07:07:05.523188Z",
     "iopub.status.busy": "2022-04-08T07:07:05.522188Z",
     "iopub.status.idle": "2022-04-08T07:07:06.900277Z",
     "shell.execute_reply": "2022-04-08T07:07:06.899665Z",
     "shell.execute_reply.started": "2022-04-08T07:06:31.398499Z"
    },
    "papermill": {
     "duration": 1.389793,
     "end_time": "2022-04-08T07:07:06.900446",
     "exception": false,
     "start_time": "2022-04-08T07:07:05.510653",
     "status": "completed"
    },
    "tags": []
   },
   "outputs": [],
   "source": [
    "from sklearn.linear_model import LogisticRegression\n",
    "Logit = LogisticRegression(penalty = 'l2',C=2)\n",
    "Logit.fit(x_train,y_train)\n",
    "y_train_pred = Logit.predict(x_test)\n",
    "submit['label'] = y_train_pred"
   ]
  },
  {
   "cell_type": "code",
   "execution_count": 6,
   "id": "188c2cd5",
   "metadata": {
    "execution": {
     "iopub.execute_input": "2022-04-08T07:07:06.923296Z",
     "iopub.status.busy": "2022-04-08T07:07:06.922602Z",
     "iopub.status.idle": "2022-04-08T07:07:06.929421Z",
     "shell.execute_reply": "2022-04-08T07:07:06.928760Z",
     "shell.execute_reply.started": "2022-04-08T07:06:31.437517Z"
    },
    "papermill": {
     "duration": 0.020802,
     "end_time": "2022-04-08T07:07:06.929595",
     "exception": false,
     "start_time": "2022-04-08T07:07:06.908793",
     "status": "completed"
    },
    "tags": []
   },
   "outputs": [],
   "source": [
    "submit.to_csv('answer.csv',index=False)"
   ]
  }
 ],
 "metadata": {
  "kernelspec": {
   "display_name": "Python 3",
   "language": "python",
   "name": "python3"
  },
  "language_info": {
   "codemirror_mode": {
    "name": "ipython",
    "version": 3
   },
   "file_extension": ".py",
   "mimetype": "text/x-python",
   "name": "python",
   "nbconvert_exporter": "python",
   "pygments_lexer": "ipython3",
   "version": "3.7.12"
  },
  "papermill": {
   "default_parameters": {},
   "duration": 12.67964,
   "end_time": "2022-04-08T07:07:07.650250",
   "environment_variables": {},
   "exception": null,
   "input_path": "__notebook__.ipynb",
   "output_path": "__notebook__.ipynb",
   "parameters": {},
   "start_time": "2022-04-08T07:06:54.970610",
   "version": "2.3.3"
  }
 },
 "nbformat": 4,
 "nbformat_minor": 5
}
