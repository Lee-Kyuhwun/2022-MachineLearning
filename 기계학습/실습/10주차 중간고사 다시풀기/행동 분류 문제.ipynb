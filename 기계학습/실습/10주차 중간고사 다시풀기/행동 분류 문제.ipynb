{
 "cells": [
  {
   "cell_type": "code",
   "execution_count": 1,
   "id": "83a22c3a",
   "metadata": {
    "_cell_guid": "b1076dfc-b9ad-4769-8c92-a6c4dae69d19",
    "_uuid": "8f2839f25d086af736a60e9eeb907d3b93b6e0e5",
    "execution": {
     "iopub.execute_input": "2022-05-13T19:47:55.565389Z",
     "iopub.status.busy": "2022-05-13T19:47:55.565069Z",
     "iopub.status.idle": "2022-05-13T19:47:55.632601Z",
     "shell.execute_reply": "2022-05-13T19:47:55.630699Z"
    },
    "papermill": {
     "duration": 0.095017,
     "end_time": "2022-05-13T19:47:55.635202",
     "exception": false,
     "start_time": "2022-05-13T19:47:55.540185",
     "status": "completed"
    },
    "tags": []
   },
   "outputs": [
    {
     "name": "stdout",
     "output_type": "stream",
     "text": [
      "/kaggle/input/2022-ml-midterm-p5/Feature_engineering.py\n",
      "/kaggle/input/2022-ml-midterm-p5/activity_labels.txt\n",
      "/kaggle/input/2022-ml-midterm-p5/features_info.txt\n",
      "/kaggle/input/2022-ml-midterm-p5/data_loader.py\n",
      "/kaggle/input/2022-ml-midterm-p5/features.txt\n",
      "/kaggle/input/2022-ml-midterm-p5/submit.csv\n",
      "/kaggle/input/2022-ml-midterm-p5/RawData/acc_exp28_user14.txt\n",
      "/kaggle/input/2022-ml-midterm-p5/RawData/acc_exp45_user22.txt\n",
      "/kaggle/input/2022-ml-midterm-p5/RawData/acc_exp15_user08.txt\n",
      "/kaggle/input/2022-ml-midterm-p5/RawData/acc_exp05_user03.txt\n",
      "/kaggle/input/2022-ml-midterm-p5/RawData/gyro_exp13_user07.txt\n",
      "/kaggle/input/2022-ml-midterm-p5/RawData/acc_exp43_user21.txt\n",
      "/kaggle/input/2022-ml-midterm-p5/RawData/acc_exp11_user06.txt\n",
      "/kaggle/input/2022-ml-midterm-p5/RawData/gyro_exp26_user13.txt\n",
      "/kaggle/input/2022-ml-midterm-p5/RawData/acc_exp39_user19.txt\n",
      "/kaggle/input/2022-ml-midterm-p5/RawData/gyro_exp05_user03.txt\n",
      "/kaggle/input/2022-ml-midterm-p5/RawData/label_train.txt\n",
      "/kaggle/input/2022-ml-midterm-p5/RawData/acc_exp13_user07.txt\n",
      "/kaggle/input/2022-ml-midterm-p5/RawData/gyro_exp54_user27.txt\n",
      "/kaggle/input/2022-ml-midterm-p5/RawData/gyro_exp40_user20.txt\n",
      "/kaggle/input/2022-ml-midterm-p5/RawData/acc_exp61_user30.txt\n",
      "/kaggle/input/2022-ml-midterm-p5/RawData/gyro_exp32_user16.txt\n",
      "/kaggle/input/2022-ml-midterm-p5/RawData/gyro_exp38_user19.txt\n",
      "/kaggle/input/2022-ml-midterm-p5/RawData/acc_exp35_user17.txt\n",
      "/kaggle/input/2022-ml-midterm-p5/RawData/gyro_exp18_user09.txt\n",
      "/kaggle/input/2022-ml-midterm-p5/RawData/acc_exp23_user11.txt\n",
      "/kaggle/input/2022-ml-midterm-p5/RawData/gyro_exp59_user29.txt\n",
      "/kaggle/input/2022-ml-midterm-p5/RawData/gyro_exp19_user10.txt\n",
      "/kaggle/input/2022-ml-midterm-p5/RawData/gyro_exp46_user23.txt\n",
      "/kaggle/input/2022-ml-midterm-p5/RawData/acc_exp41_user20.txt\n",
      "/kaggle/input/2022-ml-midterm-p5/RawData/gyro_exp17_user09.txt\n",
      "/kaggle/input/2022-ml-midterm-p5/RawData/gyro_exp28_user14.txt\n",
      "/kaggle/input/2022-ml-midterm-p5/RawData/gyro_exp29_user14.txt\n",
      "/kaggle/input/2022-ml-midterm-p5/RawData/gyro_exp50_user25.txt\n",
      "/kaggle/input/2022-ml-midterm-p5/RawData/gyro_exp11_user06.txt\n",
      "/kaggle/input/2022-ml-midterm-p5/RawData/acc_exp06_user03.txt\n",
      "/kaggle/input/2022-ml-midterm-p5/RawData/acc_exp26_user13.txt\n",
      "/kaggle/input/2022-ml-midterm-p5/RawData/gyro_exp44_user22.txt\n",
      "/kaggle/input/2022-ml-midterm-p5/RawData/gyro_exp60_user30.txt\n",
      "/kaggle/input/2022-ml-midterm-p5/RawData/gyro_exp36_user18.txt\n",
      "/kaggle/input/2022-ml-midterm-p5/RawData/acc_exp60_user30.txt\n",
      "/kaggle/input/2022-ml-midterm-p5/RawData/acc_exp46_user23.txt\n",
      "/kaggle/input/2022-ml-midterm-p5/RawData/gyro_exp45_user22.txt\n",
      "/kaggle/input/2022-ml-midterm-p5/RawData/acc_exp18_user09.txt\n",
      "/kaggle/input/2022-ml-midterm-p5/RawData/acc_exp08_user04.txt\n",
      "/kaggle/input/2022-ml-midterm-p5/RawData/acc_exp49_user24.txt\n",
      "/kaggle/input/2022-ml-midterm-p5/RawData/gyro_exp06_user03.txt\n",
      "/kaggle/input/2022-ml-midterm-p5/RawData/gyro_exp42_user21.txt\n",
      "/kaggle/input/2022-ml-midterm-p5/RawData/acc_exp37_user18.txt\n",
      "/kaggle/input/2022-ml-midterm-p5/RawData/acc_exp50_user25.txt\n",
      "/kaggle/input/2022-ml-midterm-p5/RawData/acc_exp40_user20.txt\n",
      "/kaggle/input/2022-ml-midterm-p5/RawData/acc_exp32_user16.txt\n",
      "/kaggle/input/2022-ml-midterm-p5/RawData/gyro_exp53_user26.txt\n",
      "/kaggle/input/2022-ml-midterm-p5/RawData/acc_exp52_user26.txt\n",
      "/kaggle/input/2022-ml-midterm-p5/RawData/gyro_exp27_user13.txt\n",
      "/kaggle/input/2022-ml-midterm-p5/RawData/gyro_exp52_user26.txt\n",
      "/kaggle/input/2022-ml-midterm-p5/RawData/acc_exp01_user01.txt\n",
      "/kaggle/input/2022-ml-midterm-p5/RawData/acc_exp12_user06.txt\n",
      "/kaggle/input/2022-ml-midterm-p5/RawData/acc_exp44_user22.txt\n",
      "/kaggle/input/2022-ml-midterm-p5/RawData/acc_exp09_user05.txt\n",
      "/kaggle/input/2022-ml-midterm-p5/RawData/label_test.txt\n",
      "/kaggle/input/2022-ml-midterm-p5/RawData/gyro_exp01_user01.txt\n",
      "/kaggle/input/2022-ml-midterm-p5/RawData/acc_exp27_user13.txt\n",
      "/kaggle/input/2022-ml-midterm-p5/RawData/acc_exp59_user29.txt\n",
      "/kaggle/input/2022-ml-midterm-p5/RawData/gyro_exp49_user24.txt\n",
      "/kaggle/input/2022-ml-midterm-p5/RawData/gyro_exp51_user25.txt\n",
      "/kaggle/input/2022-ml-midterm-p5/RawData/acc_exp21_user10.txt\n",
      "/kaggle/input/2022-ml-midterm-p5/RawData/gyro_exp20_user10.txt\n",
      "/kaggle/input/2022-ml-midterm-p5/RawData/gyro_exp25_user12.txt\n",
      "/kaggle/input/2022-ml-midterm-p5/RawData/gyro_exp12_user06.txt\n",
      "/kaggle/input/2022-ml-midterm-p5/RawData/acc_exp55_user27.txt\n",
      "/kaggle/input/2022-ml-midterm-p5/RawData/gyro_exp23_user11.txt\n",
      "/kaggle/input/2022-ml-midterm-p5/RawData/acc_exp24_user12.txt\n",
      "/kaggle/input/2022-ml-midterm-p5/RawData/gyro_exp22_user11.txt\n",
      "/kaggle/input/2022-ml-midterm-p5/RawData/gyro_exp31_user15.txt\n",
      "/kaggle/input/2022-ml-midterm-p5/RawData/acc_exp19_user10.txt\n",
      "/kaggle/input/2022-ml-midterm-p5/RawData/acc_exp03_user02.txt\n",
      "/kaggle/input/2022-ml-midterm-p5/RawData/acc_exp04_user02.txt\n",
      "/kaggle/input/2022-ml-midterm-p5/RawData/acc_exp33_user16.txt\n",
      "/kaggle/input/2022-ml-midterm-p5/RawData/acc_exp07_user04.txt\n",
      "/kaggle/input/2022-ml-midterm-p5/RawData/acc_exp53_user26.txt\n",
      "/kaggle/input/2022-ml-midterm-p5/RawData/acc_exp22_user11.txt\n",
      "/kaggle/input/2022-ml-midterm-p5/RawData/acc_exp16_user08.txt\n",
      "/kaggle/input/2022-ml-midterm-p5/RawData/gyro_exp14_user07.txt\n",
      "/kaggle/input/2022-ml-midterm-p5/RawData/gyro_exp07_user04.txt\n",
      "/kaggle/input/2022-ml-midterm-p5/RawData/acc_exp57_user28.txt\n",
      "/kaggle/input/2022-ml-midterm-p5/RawData/gyro_exp09_user05.txt\n",
      "/kaggle/input/2022-ml-midterm-p5/RawData/gyro_exp48_user24.txt\n",
      "/kaggle/input/2022-ml-midterm-p5/RawData/gyro_exp56_user28.txt\n",
      "/kaggle/input/2022-ml-midterm-p5/RawData/gyro_exp35_user17.txt\n",
      "/kaggle/input/2022-ml-midterm-p5/RawData/gyro_exp02_user01.txt\n",
      "/kaggle/input/2022-ml-midterm-p5/RawData/acc_exp20_user10.txt\n",
      "/kaggle/input/2022-ml-midterm-p5/RawData/gyro_exp03_user02.txt\n",
      "/kaggle/input/2022-ml-midterm-p5/RawData/gyro_exp61_user30.txt\n",
      "/kaggle/input/2022-ml-midterm-p5/RawData/acc_exp51_user25.txt\n",
      "/kaggle/input/2022-ml-midterm-p5/RawData/gyro_exp37_user18.txt\n",
      "/kaggle/input/2022-ml-midterm-p5/RawData/acc_exp36_user18.txt\n",
      "/kaggle/input/2022-ml-midterm-p5/RawData/gyro_exp34_user17.txt\n",
      "/kaggle/input/2022-ml-midterm-p5/RawData/acc_exp48_user24.txt\n",
      "/kaggle/input/2022-ml-midterm-p5/RawData/acc_exp10_user05.txt\n",
      "/kaggle/input/2022-ml-midterm-p5/RawData/gyro_exp08_user04.txt\n",
      "/kaggle/input/2022-ml-midterm-p5/RawData/acc_exp56_user28.txt\n",
      "/kaggle/input/2022-ml-midterm-p5/RawData/gyro_exp41_user20.txt\n",
      "/kaggle/input/2022-ml-midterm-p5/RawData/acc_exp31_user15.txt\n",
      "/kaggle/input/2022-ml-midterm-p5/RawData/gyro_exp16_user08.txt\n",
      "/kaggle/input/2022-ml-midterm-p5/RawData/gyro_exp57_user28.txt\n",
      "/kaggle/input/2022-ml-midterm-p5/RawData/acc_exp42_user21.txt\n",
      "/kaggle/input/2022-ml-midterm-p5/RawData/acc_exp54_user27.txt\n",
      "/kaggle/input/2022-ml-midterm-p5/RawData/acc_exp34_user17.txt\n",
      "/kaggle/input/2022-ml-midterm-p5/RawData/gyro_exp55_user27.txt\n",
      "/kaggle/input/2022-ml-midterm-p5/RawData/gyro_exp04_user02.txt\n",
      "/kaggle/input/2022-ml-midterm-p5/RawData/acc_exp30_user15.txt\n",
      "/kaggle/input/2022-ml-midterm-p5/RawData/gyro_exp43_user21.txt\n",
      "/kaggle/input/2022-ml-midterm-p5/RawData/acc_exp29_user14.txt\n",
      "/kaggle/input/2022-ml-midterm-p5/RawData/gyro_exp47_user23.txt\n",
      "/kaggle/input/2022-ml-midterm-p5/RawData/gyro_exp58_user29.txt\n",
      "/kaggle/input/2022-ml-midterm-p5/RawData/gyro_exp39_user19.txt\n",
      "/kaggle/input/2022-ml-midterm-p5/RawData/gyro_exp21_user10.txt\n",
      "/kaggle/input/2022-ml-midterm-p5/RawData/acc_exp14_user07.txt\n",
      "/kaggle/input/2022-ml-midterm-p5/RawData/acc_exp17_user09.txt\n",
      "/kaggle/input/2022-ml-midterm-p5/RawData/acc_exp02_user01.txt\n",
      "/kaggle/input/2022-ml-midterm-p5/RawData/gyro_exp33_user16.txt\n",
      "/kaggle/input/2022-ml-midterm-p5/RawData/gyro_exp30_user15.txt\n",
      "/kaggle/input/2022-ml-midterm-p5/RawData/gyro_exp24_user12.txt\n",
      "/kaggle/input/2022-ml-midterm-p5/RawData/gyro_exp15_user08.txt\n",
      "/kaggle/input/2022-ml-midterm-p5/RawData/acc_exp38_user19.txt\n",
      "/kaggle/input/2022-ml-midterm-p5/RawData/acc_exp25_user12.txt\n",
      "/kaggle/input/2022-ml-midterm-p5/RawData/gyro_exp10_user05.txt\n",
      "/kaggle/input/2022-ml-midterm-p5/RawData/acc_exp47_user23.txt\n",
      "/kaggle/input/2022-ml-midterm-p5/RawData/acc_exp58_user29.txt\n"
     ]
    }
   ],
   "source": [
    "# This Python 3 environment comes with many helpful analytics libraries installed\n",
    "# It is defined by the kaggle/python Docker image: https://github.com/kaggle/docker-python\n",
    "# For example, here's several helpful packages to load\n",
    "\n",
    "import numpy as np # linear algebra\n",
    "import pandas as pd # data processing, CSV file I/O (e.g. pd.read_csv)\n",
    "\n",
    "# Input data files are available in the read-only \"../input/\" directory\n",
    "# For example, running this (by clicking run or pressing Shift+Enter) will list all files under the input directory\n",
    "\n",
    "import os\n",
    "for dirname, _, filenames in os.walk('/kaggle/input'):\n",
    "    for filename in filenames:\n",
    "        print(os.path.join(dirname, filename))\n",
    "\n",
    "# You can write up to 20GB to the current directory (/kaggle/working/) that gets preserved as output when you create a version using \"Save & Run All\" \n",
    "# You can also write temporary files to /kaggle/temp/, but they won't be saved outside of the current session"
   ]
  },
  {
   "cell_type": "code",
   "execution_count": 2,
   "id": "75985bff",
   "metadata": {
    "execution": {
     "iopub.execute_input": "2022-05-13T19:47:55.678878Z",
     "iopub.status.busy": "2022-05-13T19:47:55.678412Z",
     "iopub.status.idle": "2022-05-13T19:47:55.683976Z",
     "shell.execute_reply": "2022-05-13T19:47:55.683067Z"
    },
    "papermill": {
     "duration": 0.028659,
     "end_time": "2022-05-13T19:47:55.685363",
     "exception": false,
     "start_time": "2022-05-13T19:47:55.656704",
     "status": "completed"
    },
    "tags": []
   },
   "outputs": [],
   "source": [
    "import random\n",
    "import os\n",
    "seed = 42\n",
    "random.seed(seed)\n",
    "np.random.seed(seed)\n",
    "os.environ[\"PYTHONHASHSEED\"] = str(seed)"
   ]
  },
  {
   "cell_type": "code",
   "execution_count": 3,
   "id": "1a6db2cc",
   "metadata": {
    "execution": {
     "iopub.execute_input": "2022-05-13T19:47:55.725083Z",
     "iopub.status.busy": "2022-05-13T19:47:55.724783Z",
     "iopub.status.idle": "2022-05-13T19:47:55.763425Z",
     "shell.execute_reply": "2022-05-13T19:47:55.762342Z"
    },
    "papermill": {
     "duration": 0.060764,
     "end_time": "2022-05-13T19:47:55.765606",
     "exception": false,
     "start_time": "2022-05-13T19:47:55.704842",
     "status": "completed"
    },
    "tags": []
   },
   "outputs": [],
   "source": [
    "import scipy as sp\n",
    "# Importing Pandas Library \n",
    "from glob import glob\n",
    "# import display() for better visualitions of DataFrames and arrays\n",
    "from IPython.display import display\n",
    "# import pyplot for plotting\n",
    "import matplotlib.pyplot as plt\n",
    "plt.style.use('bmh') # for better plots\n",
    "# import data_loader for data loading\n",
    "from data_loader import import_raw_signals, import_labels_file,normalize5,normalize2"
   ]
  },
  {
   "cell_type": "code",
   "execution_count": 4,
   "id": "1b5a758a",
   "metadata": {
    "execution": {
     "iopub.execute_input": "2022-05-13T19:47:55.807970Z",
     "iopub.status.busy": "2022-05-13T19:47:55.807072Z",
     "iopub.status.idle": "2022-05-13T19:47:55.813577Z",
     "shell.execute_reply": "2022-05-13T19:47:55.813029Z"
    },
    "papermill": {
     "duration": 0.029796,
     "end_time": "2022-05-13T19:47:55.815376",
     "exception": false,
     "start_time": "2022-05-13T19:47:55.785580",
     "status": "completed"
    },
    "tags": []
   },
   "outputs": [],
   "source": [
    "Raw_data_paths = sorted(glob(\"/kaggle/input/2022-ml-midterm-p5/RawData/*\"))\n",
    "Raw_acc_paths=Raw_data_paths[0:61]\n",
    "Raw_gyro_paths=Raw_data_paths[61:122]"
   ]
  },
  {
   "cell_type": "code",
   "execution_count": 5,
   "id": "edae522c",
   "metadata": {
    "execution": {
     "iopub.execute_input": "2022-05-13T19:47:55.857615Z",
     "iopub.status.busy": "2022-05-13T19:47:55.856900Z",
     "iopub.status.idle": "2022-05-13T19:48:08.214447Z",
     "shell.execute_reply": "2022-05-13T19:48:08.213474Z"
    },
    "papermill": {
     "duration": 12.381306,
     "end_time": "2022-05-13T19:48:08.216750",
     "exception": false,
     "start_time": "2022-05-13T19:47:55.835444",
     "status": "completed"
    },
    "tags": []
   },
   "outputs": [],
   "source": [
    "raw_dic={}\n",
    "raw_acc_columns=['acc_X','acc_Y','acc_Z']\n",
    "raw_gyro_columns=['gyro_X','gyro_Y','gyro_Z']\n",
    "for path_index in range(0,61):\n",
    "        key= Raw_data_paths[path_index][-16:-4]\n",
    "        raw_acc_data_frame=import_raw_signals(Raw_data_paths[path_index],raw_acc_columns)\n",
    "        raw_gyro_data_frame=import_raw_signals(Raw_data_paths[path_index+61],raw_gyro_columns)\n",
    "        raw_signals_data_frame=pd.concat([raw_acc_data_frame, raw_gyro_data_frame], axis=1)\n",
    "        raw_dic[key]=raw_signals_data_frame"
   ]
  },
  {
   "cell_type": "code",
   "execution_count": 6,
   "id": "c15eca53",
   "metadata": {
    "execution": {
     "iopub.execute_input": "2022-05-13T19:48:08.279579Z",
     "iopub.status.busy": "2022-05-13T19:48:08.279098Z",
     "iopub.status.idle": "2022-05-13T19:48:08.301258Z",
     "shell.execute_reply": "2022-05-13T19:48:08.300425Z"
    },
    "papermill": {
     "duration": 0.055892,
     "end_time": "2022-05-13T19:48:08.303501",
     "exception": false,
     "start_time": "2022-05-13T19:48:08.247609",
     "status": "completed"
    },
    "tags": []
   },
   "outputs": [],
   "source": [
    "train_raw_labels_columns=['experiment_number_ID','user_number_ID','activity_number_ID','Label_start_point','Label_end_point']\n",
    "test_raw_labels_columns=['experiment_number_ID','user_number_ID','Label_start_point','Label_end_point']\n",
    "\n",
    "test_labels_path=Raw_data_paths[122]\n",
    "train_labels_path=Raw_data_paths[123]\n",
    "\n",
    "train_Labels_Data_Frame=import_labels_file(train_labels_path,train_raw_labels_columns)\n",
    "test_Labels_Data_Frame=import_labels_file(test_labels_path,test_raw_labels_columns)"
   ]
  },
  {
   "cell_type": "code",
   "execution_count": 7,
   "id": "035a82ae",
   "metadata": {
    "execution": {
     "iopub.execute_input": "2022-05-13T19:48:08.368458Z",
     "iopub.status.busy": "2022-05-13T19:48:08.368200Z",
     "iopub.status.idle": "2022-05-13T19:48:09.355221Z",
     "shell.execute_reply": "2022-05-13T19:48:09.354313Z"
    },
    "papermill": {
     "duration": 1.023246,
     "end_time": "2022-05-13T19:48:09.358236",
     "exception": false,
     "start_time": "2022-05-13T19:48:08.334990",
     "status": "completed"
    },
    "tags": []
   },
   "outputs": [],
   "source": [
    "from scipy.signal import medfilt\n",
    "\n",
    "def median(signal):\n",
    "    array=np.array(signal)   \n",
    "    med_filtered=sp.signal.medfilt(array, kernel_size=3)\n",
    "    return  med_filtered"
   ]
  },
  {
   "cell_type": "code",
   "execution_count": 8,
   "id": "177b25a5",
   "metadata": {
    "execution": {
     "iopub.execute_input": "2022-05-13T19:48:09.402847Z",
     "iopub.status.busy": "2022-05-13T19:48:09.402419Z",
     "iopub.status.idle": "2022-05-13T19:48:09.428607Z",
     "shell.execute_reply": "2022-05-13T19:48:09.428040Z"
    },
    "papermill": {
     "duration": 0.049871,
     "end_time": "2022-05-13T19:48:09.430896",
     "exception": false,
     "start_time": "2022-05-13T19:48:09.381025",
     "status": "completed"
    },
    "tags": []
   },
   "outputs": [],
   "source": [
    "from scipy.fftpack import fft  \n",
    "from scipy.fftpack import fftfreq\n",
    "from scipy.fftpack import ifft\n",
    "import math \n",
    "\n",
    "sampling_freq = 50\n",
    "nyq=sampling_freq/float(2)\n",
    "freq1 = 0.3\n",
    "freq2 = 20\n",
    "\n",
    "# Function name: components_selection_one_signal\n",
    "\n",
    "# Inputs: t_signal:1D numpy array (time domain signal); \n",
    "\n",
    "# Outputs: (total_component,t_DC_component , t_body_component, t_noise) \n",
    "#           type(1D array,1D array, 1D array)\n",
    "\n",
    "# cases to discuss: if the t_signal is an acceleration signal then the t_DC_component is the gravity component [Grav_acc]\n",
    "#                   if the t_signal is a gyro signal then the t_DC_component is not useful\n",
    "# t_noise component is not useful\n",
    "# if the t_signal is an acceleration signal then the t_body_component is the body's acceleration component [Body_acc]\n",
    "# if the t_signal is a gyro signal then the t_body_component is the body's angular velocity component [Body_gyro]\n",
    "\n",
    "def components_selection_one_signal(t_signal,freq1,freq2):\n",
    "    t_signal=np.array(t_signal)\n",
    "    t_signal_length=len(t_signal)\n",
    "    f_signal=fft(t_signal)\n",
    "    freqs=np.array(sp.fftpack.fftfreq(t_signal_length, d=1/float(sampling_freq)))# frequency values between [-25hz:+25hz]\n",
    "    \n",
    "    # DC_component: f_signal values having freq between [-0.3 hz to 0 hz] and from [0 hz to 0.3hz] \n",
    "    #                                                             (-0.3 and 0.3 are included)\n",
    "    \n",
    "    # noise components: f_signal values having freq between [-25 hz to 20 hz[ and from ] 20 hz to 25 hz] \n",
    "    #                                                               (-25 and 25 hz inculded 20hz and -20hz not included)\n",
    "    \n",
    "    # selecting body_component: f_signal values having freq between [-20 hz to -0.3 hz] and from [0.3 hz to 20 hz] \n",
    "    #                                                               (-0.3 and 0.3 not included , -20hz and 20 hz included)\n",
    "    \n",
    "    \n",
    "    f_DC_signal=[] # DC_component in freq domain\n",
    "    f_body_signal=[] # body component in freq domain numpy.append(a, a[0])\n",
    "    f_noise_signal=[] # noise in freq domain\n",
    "    \n",
    "    for i in range(len(freqs)):# iterate over all available frequencies\n",
    "        \n",
    "        # selecting the frequency value\n",
    "        freq=freqs[i]\n",
    "        \n",
    "        # selecting the f_signal value associated to freq\n",
    "        value= f_signal[i]\n",
    "        \n",
    "        # Selecting DC_component values \n",
    "        if abs(freq)>0.3:# testing if freq is outside DC_component frequency ranges\n",
    "            f_DC_signal.append(float(0)) # add 0 to  the  list if it was the case (the value should not be added)                                       \n",
    "        else: # if freq is inside DC_component frequency ranges \n",
    "            f_DC_signal.append(value) # add f_signal value to f_DC_signal list\n",
    "    \n",
    "        # Selecting noise component values \n",
    "        if (abs(freq)<=20):# testing if freq is outside noise frequency ranges \n",
    "            f_noise_signal.append(float(0)) # # add 0 to  f_noise_signal list if it was the case \n",
    "        else:# if freq is inside noise frequency ranges \n",
    "            f_noise_signal.append(value) # add f_signal value to f_noise_signal\n",
    "\n",
    "        # Selecting body_component values \n",
    "        if (abs(freq)<=0.3 or abs(freq)>20):# testing if freq is outside Body_component frequency ranges\n",
    "            f_body_signal.append(float(0))# add 0 to  f_body_signal list\n",
    "        else:# if freq is inside Body_component frequency ranges\n",
    "            f_body_signal.append(value) # add f_signal value to f_body_signal list\n",
    "    \n",
    "    ################### Inverse the transformation of signals in freq domain ########################\n",
    "    # applying the inverse fft(ifft) to signals in freq domain and put them in float format\n",
    "    t_DC_component= ifft(np.array(f_DC_signal)).real\n",
    "    t_body_component= ifft(np.array(f_body_signal)).real\n",
    "    t_noise=ifft(np.array(f_noise_signal)).real\n",
    "    \n",
    "    total_component=t_signal-t_noise # extracting the total component(filtered from noise) \n",
    "                                     #  by substracting noise from t_signal (the original signal).\n",
    "    \n",
    "    # return outputs mentioned earlier\n",
    "    return (total_component,t_DC_component,t_body_component,t_noise)"
   ]
  },
  {
   "cell_type": "code",
   "execution_count": 9,
   "id": "7a9349e0",
   "metadata": {
    "execution": {
     "iopub.execute_input": "2022-05-13T19:48:09.494742Z",
     "iopub.status.busy": "2022-05-13T19:48:09.494480Z",
     "iopub.status.idle": "2022-05-13T19:48:09.500559Z",
     "shell.execute_reply": "2022-05-13T19:48:09.499640Z"
    },
    "papermill": {
     "duration": 0.039146,
     "end_time": "2022-05-13T19:48:09.502255",
     "exception": false,
     "start_time": "2022-05-13T19:48:09.463109",
     "status": "completed"
    },
    "tags": []
   },
   "outputs": [],
   "source": [
    "import math\n",
    "def mag_3_signals(x,y,z): # Euclidian magnitude\n",
    "    return [math.sqrt((x[i]**2+y[i]**2+z[i]**2)) for i in range(len(x))]"
   ]
  },
  {
   "cell_type": "code",
   "execution_count": 10,
   "id": "e7d99faf",
   "metadata": {
    "execution": {
     "iopub.execute_input": "2022-05-13T19:48:09.544531Z",
     "iopub.status.busy": "2022-05-13T19:48:09.543797Z",
     "iopub.status.idle": "2022-05-13T19:48:09.549721Z",
     "shell.execute_reply": "2022-05-13T19:48:09.548664Z"
    },
    "papermill": {
     "duration": 0.029027,
     "end_time": "2022-05-13T19:48:09.551433",
     "exception": false,
     "start_time": "2022-05-13T19:48:09.522406",
     "status": "completed"
    },
    "tags": []
   },
   "outputs": [],
   "source": [
    "dt=0.02 # dt=1/50=0.02s time duration between two rows\n",
    "# Input: 1D array with lenght=N (N:unknown)\n",
    "# Output: 1D array with lenght=N-1\n",
    "def jerk_one_signal(signal): \n",
    "        return np.array([(signal[i+1]-signal[i])/dt for i in range(len(signal)-1)])"
   ]
  },
  {
   "cell_type": "code",
   "execution_count": 11,
   "id": "96bb28ce",
   "metadata": {
    "execution": {
     "iopub.execute_input": "2022-05-13T19:48:09.593437Z",
     "iopub.status.busy": "2022-05-13T19:48:09.593142Z",
     "iopub.status.idle": "2022-05-13T19:49:38.523247Z",
     "shell.execute_reply": "2022-05-13T19:49:38.522142Z"
    },
    "papermill": {
     "duration": 88.953816,
     "end_time": "2022-05-13T19:49:38.525377",
     "exception": false,
     "start_time": "2022-05-13T19:48:09.571561",
     "status": "completed"
    },
    "tags": []
   },
   "outputs": [
    {
     "name": "stderr",
     "output_type": "stream",
     "text": [
      "100%|██████████| 61/61 [01:28<00:00,  1.46s/it]\n"
     ]
    }
   ],
   "source": [
    "time_sig_dic={}\n",
    "raw_dic_keys=sorted(raw_dic.keys())\n",
    "\n",
    "import tqdm\n",
    "for key in tqdm.tqdm(raw_dic_keys):\n",
    "    raw_df=raw_dic[key]\n",
    "    time_sig_df=pd.DataFrame()\n",
    "    \n",
    "    for column in raw_df.columns:\n",
    "        t_signal=np.array(raw_df[column])\n",
    "        med_filtred=median(t_signal)\n",
    "        \n",
    "        if 'acc' in column:\n",
    "            _,grav_acc,body_acc,_=components_selection_one_signal(med_filtred,freq1,freq2)\n",
    "            body_acc_jerk=jerk_one_signal(body_acc)\n",
    "            time_sig_df['t_body_'+column]=body_acc[:-1]\n",
    "            time_sig_df['t_grav_'+column]= grav_acc[:-1]\n",
    "            time_sig_df['t_body_acc_jerk_'+column[-1]]=body_acc_jerk\n",
    "        elif 'gyro' in column:\n",
    "            _,_,body_gyro,_=components_selection_one_signal(med_filtred,freq1,freq2)\n",
    "            body_gyro_jerk=jerk_one_signal(body_gyro)\n",
    "            time_sig_df['t_body_gyro_'+column[-1]]=body_gyro[:-1]\n",
    "            time_sig_df['t_body_gyro_jerk_'+column[-1]]=body_gyro_jerk\n",
    "            \n",
    "    new_columns_ordered=['t_body_acc_X','t_body_acc_Y','t_body_acc_Z',\n",
    "                      't_grav_acc_X','t_grav_acc_Y','t_grav_acc_Z',\n",
    "                      't_body_acc_jerk_X','t_body_acc_jerk_Y','t_body_acc_jerk_Z',\n",
    "                      't_body_gyro_X','t_body_gyro_Y','t_body_gyro_Z',\n",
    "                      't_body_gyro_jerk_X','t_body_gyro_jerk_Y','t_body_gyro_jerk_Z']\n",
    "        \n",
    "    ordered_time_sig_df=pd.DataFrame()\n",
    "        \n",
    "    for col in new_columns_ordered:\n",
    "        ordered_time_sig_df[col]=time_sig_df[col]\n",
    "        \n",
    "    for i in range(0,15,3):\n",
    "        mag_col_name=new_columns_ordered[i][:-1]+'mag'\n",
    "        col0=np.array(ordered_time_sig_df[new_columns_ordered[i]]) # copy X_component\n",
    "        col1=ordered_time_sig_df[new_columns_ordered[i+1]] # copy Y_component\n",
    "        col2=ordered_time_sig_df[new_columns_ordered[i+2]] # copy Z_component\n",
    "        mag_signal=mag_3_signals(col0,col1,col2)\n",
    "        ordered_time_sig_df[mag_col_name]=mag_signal\n",
    "        \n",
    "    time_sig_dic[key]=ordered_time_sig_df"
   ]
  },
  {
   "cell_type": "code",
   "execution_count": 12,
   "id": "ff072f25",
   "metadata": {
    "execution": {
     "iopub.execute_input": "2022-05-13T19:49:38.646902Z",
     "iopub.status.busy": "2022-05-13T19:49:38.646644Z",
     "iopub.status.idle": "2022-05-13T19:49:38.660204Z",
     "shell.execute_reply": "2022-05-13T19:49:38.659381Z"
    },
    "papermill": {
     "duration": 0.07685,
     "end_time": "2022-05-13T19:49:38.662035",
     "exception": false,
     "start_time": "2022-05-13T19:49:38.585185",
     "status": "completed"
    },
    "tags": []
   },
   "outputs": [],
   "source": [
    "def Windowing_type(time_sig_dic,Labels_Data_Frame):\n",
    "    columns=time_sig_dic['exp01_user01'].columns\n",
    "    window_ID=0\n",
    "    time_dictionary_window={}\n",
    "    BA_array=np.array(Labels_Data_Frame)\n",
    "    \n",
    "    for line in tqdm.tqdm(BA_array):\n",
    "        file_key= 'exp' + normalize2(int(line[0]))  +  '_user' + normalize2(int(line[1]))\n",
    "        \n",
    "        if line.shape[0] == 5 :\n",
    "          act_ID=line[2]\n",
    "          start_point=line[3]\n",
    "          end_point = line[4]\n",
    "        else :\n",
    "          act_ID='None'\n",
    "          start_point = line[2]\n",
    "          end_point = line[3]\n",
    "        \n",
    "        for cursor in range(start_point,end_point-127,64):\n",
    "            end_point=cursor+128\n",
    "            data=np.array(time_sig_dic[file_key].iloc[cursor:end_point])\n",
    "            window=pd.DataFrame(data=data,columns=columns)\n",
    "            key='t_W'+normalize5(window_ID)+'_'+file_key+'_act'+normalize2(act_ID)\n",
    "            time_dictionary_window[key]=window\n",
    "            window_ID=window_ID+1\n",
    "    \n",
    "    return time_dictionary_window "
   ]
  },
  {
   "cell_type": "code",
   "execution_count": 13,
   "id": "67781a8b",
   "metadata": {
    "execution": {
     "iopub.execute_input": "2022-05-13T19:49:38.783479Z",
     "iopub.status.busy": "2022-05-13T19:49:38.783286Z",
     "iopub.status.idle": "2022-05-13T19:49:44.060610Z",
     "shell.execute_reply": "2022-05-13T19:49:44.059279Z"
    },
    "papermill": {
     "duration": 5.340319,
     "end_time": "2022-05-13T19:49:44.062796",
     "exception": false,
     "start_time": "2022-05-13T19:49:38.722477",
     "status": "completed"
    },
    "tags": []
   },
   "outputs": [
    {
     "name": "stderr",
     "output_type": "stream",
     "text": [
      "100%|██████████| 598/598 [00:03<00:00, 154.46it/s]\n",
      "100%|██████████| 258/258 [00:01<00:00, 185.21it/s]\n"
     ]
    }
   ],
   "source": [
    "train_time_dictionary_window  = Windowing_type(time_sig_dic,train_Labels_Data_Frame)\n",
    "test_time_dictionary_window  = Windowing_type(time_sig_dic,test_Labels_Data_Frame)"
   ]
  },
  {
   "cell_type": "code",
   "execution_count": 14,
   "id": "a5c8032c",
   "metadata": {
    "execution": {
     "iopub.execute_input": "2022-05-13T19:49:44.228618Z",
     "iopub.status.busy": "2022-05-13T19:49:44.228221Z",
     "iopub.status.idle": "2022-05-13T19:49:44.232252Z",
     "shell.execute_reply": "2022-05-13T19:49:44.231790Z"
    },
    "papermill": {
     "duration": 0.089801,
     "end_time": "2022-05-13T19:49:44.234678",
     "exception": false,
     "start_time": "2022-05-13T19:49:44.144877",
     "status": "completed"
    },
    "tags": []
   },
   "outputs": [],
   "source": [
    "train_window = train_time_dictionary_window[sorted(train_time_dictionary_window.keys())[0]]"
   ]
  },
  {
   "cell_type": "code",
   "execution_count": 15,
   "id": "09e219c0",
   "metadata": {
    "execution": {
     "iopub.execute_input": "2022-05-13T19:49:44.342012Z",
     "iopub.status.busy": "2022-05-13T19:49:44.341747Z",
     "iopub.status.idle": "2022-05-13T19:49:44.347940Z",
     "shell.execute_reply": "2022-05-13T19:49:44.347488Z"
    },
    "papermill": {
     "duration": 0.061543,
     "end_time": "2022-05-13T19:49:44.349219",
     "exception": false,
     "start_time": "2022-05-13T19:49:44.287676",
     "status": "completed"
    },
    "tags": []
   },
   "outputs": [],
   "source": [
    "from scipy import fftpack\n",
    "from numpy.fft import *\n",
    "\n",
    "def fast_fourier_transform_one_signal(t_signal):\n",
    "    complex_f_signal= fftpack.fft(t_signal)\n",
    "    amplitude_f_signal=np.abs(complex_f_signal)\n",
    "    \n",
    "    return amplitude_f_signal\n",
    "\n",
    "def fast_fourier_transform(t_window):\n",
    "    f_window=pd.DataFrame()\n",
    "    for column in t_window.columns:\n",
    "        if 'grav' not in column:\n",
    "            t_signal=np.array(t_window[column])\n",
    "            f_signal= np.apply_along_axis(fast_fourier_transform_one_signal,0,t_signal)\n",
    "            f_window[\"f_\"+column[2:]]=f_signal\n",
    "    return f_window"
   ]
  },
  {
   "cell_type": "code",
   "execution_count": 16,
   "id": "b43ad5ac",
   "metadata": {
    "execution": {
     "iopub.execute_input": "2022-05-13T19:49:44.460862Z",
     "iopub.status.busy": "2022-05-13T19:49:44.460554Z",
     "iopub.status.idle": "2022-05-13T19:51:08.726427Z",
     "shell.execute_reply": "2022-05-13T19:51:08.725239Z"
    },
    "papermill": {
     "duration": 84.32509,
     "end_time": "2022-05-13T19:51:08.728628",
     "exception": false,
     "start_time": "2022-05-13T19:49:44.403538",
     "status": "completed"
    },
    "tags": []
   },
   "outputs": [
    {
     "name": "stderr",
     "output_type": "stream",
     "text": [
      "100%|██████████| 7283/7283 [00:58<00:00, 124.80it/s]\n",
      "100%|██████████| 3116/3116 [00:25<00:00, 120.33it/s]\n"
     ]
    }
   ],
   "source": [
    "train_frequent_dictionary_window = {'f'+key[1:] : train_t_df.pipe(fast_fourier_transform) for key, train_t_df in tqdm.tqdm(train_time_dictionary_window.items())}\n",
    "test_frequent_dictionary_window = {'f'+key[1:] : test_t_df.pipe(fast_fourier_transform) for key, test_t_df in tqdm.tqdm(test_time_dictionary_window.items())}"
   ]
  },
  {
   "cell_type": "code",
   "execution_count": 17,
   "id": "3857a986",
   "metadata": {
    "execution": {
     "iopub.execute_input": "2022-05-13T19:51:09.593120Z",
     "iopub.status.busy": "2022-05-13T19:51:09.592860Z",
     "iopub.status.idle": "2022-05-13T19:51:09.597475Z",
     "shell.execute_reply": "2022-05-13T19:51:09.596696Z"
    },
    "papermill": {
     "duration": 0.439556,
     "end_time": "2022-05-13T19:51:09.599096",
     "exception": false,
     "start_time": "2022-05-13T19:51:09.159540",
     "status": "completed"
    },
    "tags": []
   },
   "outputs": [],
   "source": [
    "train_window = train_frequent_dictionary_window[sorted(train_frequent_dictionary_window.keys())[0]]"
   ]
  },
  {
   "cell_type": "code",
   "execution_count": 18,
   "id": "30e5715d",
   "metadata": {
    "execution": {
     "iopub.execute_input": "2022-05-13T19:51:10.476168Z",
     "iopub.status.busy": "2022-05-13T19:51:10.475948Z",
     "iopub.status.idle": "2022-05-13T19:51:10.546381Z",
     "shell.execute_reply": "2022-05-13T19:51:10.545219Z"
    },
    "papermill": {
     "duration": 0.51987,
     "end_time": "2022-05-13T19:51:10.548880",
     "exception": false,
     "start_time": "2022-05-13T19:51:10.029010",
     "status": "completed"
    },
    "tags": []
   },
   "outputs": [],
   "source": [
    "# -------------------------------------\n",
    "# [Empty Module #1] Feature Engineering\n",
    "# -------------------------------------\n",
    "\n",
    "# -------------------------------------\n",
    "# Feature Engineering\n",
    "# -------------------------------------\n",
    "# 목적: 제공된 36개의 시퀀스 도메인 데이터를 기반으로 유의미한 피처를 추출한다.\n",
    "# 입력인자: 시간(time) 도메인 Feature 20개 , 주파수(frequency) 도메인 Feature 16개\n",
    "# 출력인자: 분류모델 학습을 위한 Feature\n",
    "# -------------------------------------\n",
    "\n",
    "# ------------------------------------------------------------\n",
    "# 구현 가이드라인 - 논문에서 제안하는 Feature Engineering 방법\n",
    "# ------------------------------------------------------------\n",
    "#\n",
    "# mean(): Mean value\n",
    "# std(): Standard deviation\n",
    "# mad(): Median absolute deviation \n",
    "# max(): Largest value in array\n",
    "# min(): Smallest value in array\n",
    "# sma(): Signal magnitude area\n",
    "# energy(): Energy measure. Sum of the squares divided by the number of values. \n",
    "# iqr(): Interquartile range \n",
    "# entropy(): Signal entropy\n",
    "# arCoeff(): Autorregresion coefficients with Burg order equal to 4\n",
    "# correlation(): correlation coefficient between two signals\n",
    "# maxInds(): index of the frequency component with largest magnitude\n",
    "# meanFreq(): Weighted average of the frequency components to obtain a mean frequency\n",
    "# skewness(): skewness of the frequency domain signal \n",
    "# kurtosis(): kurtosis of the frequency domain signal \n",
    "# bandsEnergy(): Energy of a frequency interval within the 64 bins of the FFT of each window.\n",
    "# angle(): Angle between to vectors.\n",
    "\n",
    "import sys\n",
    "\n",
    "\n",
    "# Time domain Feature Extract function\n",
    "\n",
    "from Feature_engineering import mean_axial,std_axial,mad_axial,max_axial,min_axial, t_sma_axial, t_energy_axial,IQR_axial,entropy_axial, t_arburg_axial, t_corr_axial\n",
    "from Feature_engineering import mean_mag,std_mag,mad_mag,max_mag,min_mag,t_sma_mag,t_energy_mag,IQR_mag,entropy_mag,t_arburg_mag\n",
    "\n",
    "# Frequency domain Feature Extract function\n",
    "from Feature_engineering import f_sma_axial,f_energy_axial,f_max_Inds_axial,f_mean_Freq_axial,f_skewness_and_kurtosis_axial,f_all_bands_energy_axial\n",
    "from Feature_engineering import f_sma_mag,f_energy_mag,f_max_Inds_mag,f_mean_Freq_mag,f_skewness_mag,f_kurtosis_mag\n",
    "\n",
    "# Additional Feature Extract function\n",
    "from Feature_engineering import angle_features\n",
    "\n",
    "def feature_extractor(time_dictionary,freq_dictionary, condition='train') :\n",
    "    \n",
    "    \n",
    "    if condition is 'train' :\n",
    "        total_data = []\n",
    "        total_label = []\n",
    "    elif condition is 'test' :\n",
    "        total_data = []\n",
    "        \n",
    "    for i in tqdm.tqdm(range(len(time_dictionary))) :\n",
    "        \n",
    "        time_key = sorted(time_dictionary.keys())[i]\n",
    "        freq_key = sorted(freq_dictionary.keys())[i]\n",
    "        \n",
    "        time_window = time_dictionary[time_key]\n",
    "        freq_window = freq_dictionary[freq_key]\n",
    "        \n",
    "        if condition is 'train' :\n",
    "          window_user_id= int(time_key[-8:-6]) # extract the user id from window's key\n",
    "          window_activity_id=int(time_key[-2:]) # extract the activity id from the windows key\n",
    "        elif condition is 'test' :\n",
    "          window_user_id= int(time_key[-10:-8]) # extract the user id from window's key\n",
    "          window_activity_id= 0\n",
    "        else :\n",
    "            print(\"Error\")\n",
    "            sys.exit()\n",
    "            break;\n",
    "            \n",
    "        ##################################################################################\n",
    "        \n",
    "        \n",
    "        # Time domain - Feature extractor - Part 1. axial(X,Y,Z) Features \n",
    "        \n",
    "        #[0,1,2] : 't_body_acc_X', 't_body_acc_Y', 't_body_acc_Z'\n",
    "        #[3,4,5] : 't_grav_acc_X','t_grav_acc_Y', 't_grav_acc_Z'\n",
    "        #[6,7,8] : 't_body_acc_jerk_X','t_body_acc_jerk_Y', 't_body_acc_jerk_Z'\n",
    "        #[9,10,11] : 't_body_gyro_X','t_body_gyro_Y', 't_body_gyro_Z'\n",
    "        #[12,13,14] : 't_body_gyro_jerk_X', 't_body_gyro_jerk_Y', 't_body_gyro_jerk_Z'\n",
    "        \n",
    "        axial_columns = time_window.columns[0:15]\n",
    "        axial_df = time_window[axial_columns] # X,Y,Z\n",
    "        \n",
    "        time_axial_features = []\n",
    "        \n",
    "        for col in range(0,15,3) : \n",
    "            # ------------------------------------------------------------\n",
    "            # 구현 가이드라인 \n",
    "            # ------------------------------------------------------------\n",
    "            # 아래 time_3axial_vector 나타난 Feature를 계산하여야 한다.\n",
    "            # 각각을 계산하기위한 함수는 'Feature_engineering.py'에 내제되어 있다.\n",
    "            # ------------------------------------------------------------\n",
    "            curr_col = axial_columns[col:col+3]\n",
    "            curr_df = axial_df[curr_col]\n",
    "            \n",
    "            mean_vector = mean_axial(curr_df)\n",
    "            std_vector = std_axial(curr_df)\n",
    "            mad_vector = mad_axial(curr_df)\n",
    "            max_vector = max_axial(curr_df)\n",
    "            min_vector = min_axial(curr_df)\n",
    "            sma_value = t_sma_axial(curr_df)\n",
    "            energy_vector = t_energy_axial(curr_df)\n",
    "            IQR_vector = IQR_axial(curr_df)\n",
    "            entropy_vector = entropy_axial(curr_df)\n",
    "            AR_vector = t_arburg_axial(curr_df)\n",
    "            corr_vector = t_corr_axial(curr_df)\n",
    "            # 40 value per each 3-axial signals\n",
    "            time_3axial_vector = mean_vector + std_vector + mad_vector + \\\n",
    "                                 max_vector + min_vector + [sma_value] + \\\n",
    "                                 energy_vector + IQR_vector + entropy_vector + \\\n",
    "                                 AR_vector + corr_vector\n",
    "            \n",
    "            # append these features to the global list of features\n",
    "            time_axial_features= time_axial_features+time_3axial_vector\n",
    "        \n",
    "        ##################################################################################\n",
    "        \n",
    "        # Time domain - Feature extractor - Part 2. Magnitude Features \n",
    "        \n",
    "        #[15]'t_body_acc_mag'\n",
    "        #[16]'t_grav_acc_mag'\n",
    "        #[17]'t_body_acc_jerk_mag'\n",
    "        #[18]'t_body_gyro_mag'\n",
    "        #[19]'t_body_gyro_jerk_mag'\n",
    "        \n",
    "        mag_columns = time_window.columns[15:]\n",
    "        mag_columns = time_window[mag_columns]\n",
    "        \n",
    "        time_mag_features = []\n",
    "        \n",
    "        for ci, col in enumerate(mag_columns) :\n",
    "            \n",
    "            # ------------------------------------------------------------\n",
    "            # 구현 가이드라인 \n",
    "            # ------------------------------------------------------------\n",
    "            # 아래 col_mag_values 나타난 Feature를 계산하여야 한다.\n",
    "            # 각각을 계산하기위한 함수는 'Feature_engineering.py'에 내제되어 있다.\n",
    "            # ------------------------------------------------------------\n",
    "   \n",
    "            mean_value = mean_mag(mag_columns[col])\n",
    "            std_value = std_mag(mag_columns[col])\n",
    "            mad_value = mad_mag(mag_columns[col])\n",
    "            max_value = max_mag(mag_columns[col])\n",
    "            min_value = min_mag(mag_columns[col])\n",
    "            sma_value = f_sma_mag(mag_columns[col])\n",
    "            energy_value = t_energy_mag(mag_columns[col])\n",
    "            IQR_value = IQR_mag(mag_columns[col])\n",
    "            entropy_value = entropy_mag(mag_columns[col])\n",
    "            \n",
    "            curr_col = axial_columns[int(ci*3):int(ci*3)+3]\n",
    "            curr_df = axial_df[curr_col]\n",
    "            AR_vector = t_arburg_axial(curr_df)\n",
    "            \n",
    "            # 13 value per each t_mag_column\n",
    "            col_mag_values = [mean_value, std_value, mad_value, max_value, min_value, sma_value, \n",
    "                              energy_value,IQR_value, entropy_value]+ AR_vector\n",
    "\n",
    "            # col_mag_values will be added to the global list\n",
    "            time_mag_features= time_mag_features+ col_mag_values\n",
    "\n",
    "        \n",
    "        ##################################################################################\n",
    "        \n",
    "        # Frequency domain - Feature extractor - Part 1. axial(X,Y,Z) Features \n",
    "        \n",
    "        #[0,1,2] : 'f_body_acc_X', 'f_body_acc_Y', 'f_body_acc_Z'\n",
    "        #[3,4,5] : 'f_body_acc_jerk_X','f_body_acc_jerk_Y', 'f_body_acc_jerk_Z'\n",
    "        #[6,7,8] : 'f_body_gyro_X','f_body_gyro_Y', 'f_body_gyro_Z'\n",
    "        #[9,10,11] : 'f_body_gyro_jerk_X','f_body_gyro_jerk_Y', 'f_body_gyro_jerk_Z'\n",
    "        \n",
    "        axial_columns=freq_window.columns[0:12]\n",
    "        axial_df=freq_window[axial_columns]\n",
    "        freq_axial_features=[]\n",
    "        \n",
    "        for col in range(0,12,3) :         \n",
    "            # ------------------------------------------------------------\n",
    "            # 구현 가이드라인 \n",
    "            # ------------------------------------------------------------\n",
    "            # 아래 freq_3axial_features 나타난 Feature를 계산하여야 한다.\n",
    "            # 각각을 계산하기위한 함수는 'Feature_engineering.py'에 내제되어 있다.\n",
    "            # ------------------------------------------------------------\n",
    "            \n",
    "            curr_col = axial_columns[col:col+3]\n",
    "            curr_df = axial_df[curr_col]\n",
    "            \n",
    "            mean_vector = mean_axial(curr_df)\n",
    "            std_vector = std_axial(curr_df)\n",
    "            mad_vector = mad_axial(curr_df)\n",
    "            max_vector = max_axial(curr_df)\n",
    "            min_vector = min_axial(curr_df)\n",
    "            sma_value = f_sma_axial(curr_df)\n",
    "            energy_vector = f_energy_axial(curr_df)\n",
    "            IQR_vector = IQR_axial(curr_df)\n",
    "            entropy_vector = entropy_axial(curr_df)\n",
    "            max_inds_vector = f_max_Inds_axial(curr_df)\n",
    "            mean_Freq_vector = f_mean_Freq_axial(curr_df)\n",
    "            skewness_and_kurtosis_vector = f_skewness_and_kurtosis_axial(curr_df)\n",
    "            bands_energy_vector = f_all_bands_energy_axial(curr_df)\n",
    "            \n",
    "            freq_3axial_features = mean_vector +std_vector + mad_vector + max_vector + min_vector + [sma_value] + energy_vector + IQR_vector + entropy_vector + max_inds_vector + mean_Freq_vector + skewness_and_kurtosis_vector + bands_energy_vector\n",
    "            freq_axial_features = freq_axial_features+ freq_3axial_features\n",
    "        \n",
    "        ##################################################################################\n",
    "        \n",
    "        # Frequency domain - Feature extractor - Part 2. Magnitude Features\n",
    "        \n",
    "        #[12]'f_body_acc_mag'\n",
    "        #[13]'f_body_acc_jerk_mag'\n",
    "        #[14]'f_body_gyro_mag'\n",
    "        #[15]'f_body_gyro_jerk_mag'\n",
    "        \n",
    "        mag_columns=freq_window.columns[12:]\n",
    "        mag_columns=freq_window[mag_columns]\n",
    "        \n",
    "        freq_mag_features = []\n",
    "        \n",
    "        for col in mag_columns:\n",
    "            # ------------------------------------------------------------\n",
    "            # 구현 가이드라인 \n",
    "            # ------------------------------------------------------------\n",
    "            # 아래 col_mag_values에 나타난 Feature를 계산하여야 한다.\n",
    "            # 각각을 계산하기위한 함수는 'Feature_engineering.py'에 내제되어 있다.\n",
    "            # ------------------------------------------------------------\n",
    "            mean_value = mean_mag(mag_columns[col])\n",
    "            std_value = std_mag(mag_columns[col])\n",
    "            mad_value = mad_mag(mag_columns[col])\n",
    "            max_value = max_mag(mag_columns[col])\n",
    "            min_value = min_mag(mag_columns[col])\n",
    "            sma_value = t_sma_mag(mag_columns[col])\n",
    "            energy_value = t_energy_mag(mag_columns[col])\n",
    "            IQR_value = IQR_mag(mag_columns[col])\n",
    "            entropy_value = entropy_mag(mag_columns[col])\n",
    "            max_Inds_value = f_max_Inds_mag(mag_columns[col])\n",
    "            mean_Freq_value = f_mean_Freq_mag(mag_columns[col])\n",
    "            skewness_value = f_skewness_mag(mag_columns[col])\n",
    "            kurtosis_value = f_kurtosis_mag(mag_columns[col])\n",
    "            # 13 value per each t_mag_column\n",
    "            col_mag_values = [mean_value, std_value, mad_value, max_value, \n",
    "                              min_value, sma_value, energy_value,IQR_value, \n",
    "                              entropy_value, max_Inds_value, mean_Freq_value,\n",
    "                              skewness_value, kurtosis_value ]\n",
    "            \n",
    "            freq_mag_features= freq_mag_features+ col_mag_values\n",
    "        \n",
    "        ##################################################################################\n",
    "        \n",
    "        # Time domain - Feature extractor - Part 3. Additional Features \n",
    "        \n",
    "        additional_features = angle_features(time_window)\n",
    "                \n",
    "        ##################################################################################\n",
    "        \n",
    "        total_features = time_axial_features + time_mag_features + freq_axial_features + freq_mag_features + additional_features\n",
    "        \n",
    "        total_data.append(total_features)\n",
    "        if condition is 'train' :\n",
    "            total_label.append(window_activity_id)\n",
    "    \n",
    "    total_data = np.array(total_data)\n",
    "    if condition is 'train' :\n",
    "        total_label = np.array(total_label)\n",
    "    \n",
    "    if condition is 'train' :\n",
    "        return total_data, total_label\n",
    "    elif condition is 'test' :\n",
    "        return total_data"
   ]
  },
  {
   "cell_type": "code",
   "execution_count": 19,
   "id": "9e9eda2e",
   "metadata": {
    "execution": {
     "iopub.execute_input": "2022-05-13T19:51:11.415214Z",
     "iopub.status.busy": "2022-05-13T19:51:11.414642Z",
     "iopub.status.idle": "2022-05-13T19:59:46.846026Z",
     "shell.execute_reply": "2022-05-13T19:59:46.845024Z"
    },
    "papermill": {
     "duration": 515.865169,
     "end_time": "2022-05-13T19:59:46.848318",
     "exception": false,
     "start_time": "2022-05-13T19:51:10.983149",
     "status": "completed"
    },
    "tags": []
   },
   "outputs": [
    {
     "name": "stderr",
     "output_type": "stream",
     "text": [
      "100%|██████████| 7283/7283 [06:04<00:00, 19.99it/s]\n",
      "100%|██████████| 3116/3116 [02:30<00:00, 20.76it/s]\n"
     ]
    }
   ],
   "source": [
    "train_data, train_label = feature_extractor(train_time_dictionary_window,train_frequent_dictionary_window,condition='train')\n",
    "test_data = feature_extractor(test_time_dictionary_window,test_frequent_dictionary_window,condition='test')"
   ]
  },
  {
   "cell_type": "code",
   "execution_count": 20,
   "id": "aa9c6067",
   "metadata": {
    "execution": {
     "iopub.execute_input": "2022-05-13T19:59:51.675106Z",
     "iopub.status.busy": "2022-05-13T19:59:51.674826Z",
     "iopub.status.idle": "2022-05-13T19:59:52.104943Z",
     "shell.execute_reply": "2022-05-13T19:59:52.103976Z"
    },
    "papermill": {
     "duration": 2.83945,
     "end_time": "2022-05-13T19:59:52.107079",
     "exception": false,
     "start_time": "2022-05-13T19:59:49.267629",
     "status": "completed"
    },
    "tags": []
   },
   "outputs": [],
   "source": [
    "# -------------------------------------\n",
    "# [Empty Module #2] Data Normalization\n",
    "# -------------------------------------\n",
    "\n",
    "# -------------------------------------\n",
    "# Data Normalization\n",
    "# -------------------------------------\n",
    "# 목적: 앞서 구축한 train,test 셋에 대한 Feature를 정규화한다.\n",
    "# 입력인자: train 셋에서 추출된 Feature, test 셋에서 추출된 Feature\n",
    "# 출력인자: 정규화된 Feature Vector\n",
    "# -------------------------------------\n",
    "\n",
    "\n",
    "from sklearn.preprocessing import MinMaxScaler\n",
    "\n",
    "scaler = MinMaxScaler()\n",
    "scaler.fit(train_data)\n",
    "train_norm_data = scaler.transform(train_data)\n",
    "test_norm_data = scaler.transform(test_data)\n",
    "# ------------------------------------------------------------\n",
    "# 구현 가이드라인 \n",
    "# ------------------------------------------------------------\n",
    "# sklearn에서 제공하는 MinMaxScaler를 사용해 데이터 정규화를 진행한다.\n",
    "# (MinMaxScaler가 아닌 다른 정규화를 사용할 수 있다.)\n",
    "# ------------------------------------------------------------"
   ]
  },
  {
   "cell_type": "code",
   "execution_count": 21,
   "id": "8bc5179d",
   "metadata": {
    "execution": {
     "iopub.execute_input": "2022-05-13T19:59:55.249116Z",
     "iopub.status.busy": "2022-05-13T19:59:55.248882Z",
     "iopub.status.idle": "2022-05-13T20:00:10.613028Z",
     "shell.execute_reply": "2022-05-13T20:00:10.611952Z"
    },
    "papermill": {
     "duration": 16.926649,
     "end_time": "2022-05-13T20:00:10.615401",
     "exception": false,
     "start_time": "2022-05-13T19:59:53.688752",
     "status": "completed"
    },
    "tags": []
   },
   "outputs": [],
   "source": [
    "# -------------------------------------\n",
    "# [Empty Module #3] RandomForest를 이용한 분류\n",
    "# -------------------------------------\n",
    "\n",
    "# -------------------------------------\n",
    "# SVC를 이용한 분류\n",
    "# -------------------------------------\n",
    "# 목적: 앞서 완성한 train/test Feature를 RandomForest를 이용해 분류한다.\n",
    "# 입력인자: Feature vector(train/test)\n",
    "# 출력인자: 분류결과\n",
    "# -------------------------------------\n",
    "\n",
    "from sklearn.ensemble import RandomForestClassifier\n",
    "\n",
    "clf = RandomForestClassifier(random_state=200)\n",
    "clf.fit(train_norm_data, train_label)\n",
    "y_pred = clf.predict(test_norm_data)\n",
    "\n",
    "# ------------------------------------------------------------\n",
    "# 구현 가이드라인 \n",
    "# ------------------------------------------------------------\n",
    "# sklearn에서 제공하는 RandomForest를 사용해 데이터 정규화를 진행한다.\n",
    "# (RandomForest를가 아닌 다른 분류모델을 사용할 수 있다.)\n",
    "# ------------------------------------------------------------"
   ]
  },
  {
   "cell_type": "code",
   "execution_count": 22,
   "id": "c8519fef",
   "metadata": {
    "execution": {
     "iopub.execute_input": "2022-05-13T20:00:15.527632Z",
     "iopub.status.busy": "2022-05-13T20:00:15.527390Z",
     "iopub.status.idle": "2022-05-13T20:00:15.550641Z",
     "shell.execute_reply": "2022-05-13T20:00:15.549616Z"
    },
    "papermill": {
     "duration": 2.437766,
     "end_time": "2022-05-13T20:00:15.553227",
     "exception": false,
     "start_time": "2022-05-13T20:00:13.115461",
     "status": "completed"
    },
    "tags": []
   },
   "outputs": [],
   "source": [
    "submit_csv = pd.read_csv('/kaggle/input/2022-ml-midterm-p5/submit.csv')\n",
    "submit_csv['Label'] = y_pred\n",
    "submit_csv.to_csv(\"submit.csv\", index=False)"
   ]
  }
 ],
 "metadata": {
  "kernelspec": {
   "display_name": "Python 3",
   "language": "python",
   "name": "python3"
  },
  "language_info": {
   "codemirror_mode": {
    "name": "ipython",
    "version": 3
   },
   "file_extension": ".py",
   "mimetype": "text/x-python",
   "name": "python",
   "nbconvert_exporter": "python",
   "pygments_lexer": "ipython3",
   "version": "3.7.12"
  },
  "papermill": {
   "default_parameters": {},
   "duration": 756.221114,
   "end_time": "2022-05-13T20:00:20.496790",
   "environment_variables": {},
   "exception": null,
   "input_path": "__notebook__.ipynb",
   "output_path": "__notebook__.ipynb",
   "parameters": {},
   "start_time": "2022-05-13T19:47:44.275676",
   "version": "2.3.4"
  }
 },
 "nbformat": 4,
 "nbformat_minor": 5
}
